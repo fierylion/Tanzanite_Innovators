{
 "cells": [
  {
   "cell_type": "code",
   "execution_count": 1,
   "metadata": {},
   "outputs": [
    {
     "name": "stdout",
     "output_type": "stream",
     "text": [
      "Collecting rasterio\n",
      "  Downloading rasterio-1.3.10-cp39-cp39-manylinux2014_x86_64.whl (21.5 MB)\n",
      "\u001b[2K     \u001b[90m━━━━━━━━━━━━━━━━━━━━━━━━━━━━━━━━━━━━━━━\u001b[0m \u001b[32m21.5/21.5 MB\u001b[0m \u001b[31m776.5 kB/s\u001b[0m eta \u001b[36m0:00:00\u001b[0m00:01\u001b[0m00:01\u001b[0m\n",
      "\u001b[?25hRequirement already satisfied: click>=4.0 in /home/godson/devtools/anaconda3/lib/python3.9/site-packages (from rasterio) (8.1.3)\n",
      "Requirement already satisfied: importlib-metadata in /home/godson/devtools/anaconda3/lib/python3.9/site-packages (from rasterio) (6.11.0)\n",
      "Requirement already satisfied: certifi in /home/godson/devtools/anaconda3/lib/python3.9/site-packages (from rasterio) (2022.6.15)\n",
      "Requirement already satisfied: numpy in /home/godson/devtools/anaconda3/lib/python3.9/site-packages (from rasterio) (1.23.5)\n",
      "Collecting affine\n",
      "  Downloading affine-2.4.0-py3-none-any.whl (15 kB)\n",
      "Collecting cligj>=0.5\n",
      "  Downloading cligj-0.7.2-py3-none-any.whl (7.1 kB)\n",
      "Requirement already satisfied: attrs in /home/godson/devtools/anaconda3/lib/python3.9/site-packages (from rasterio) (23.2.0)\n",
      "Requirement already satisfied: setuptools in /home/godson/devtools/anaconda3/lib/python3.9/site-packages (from rasterio) (67.6.1)\n",
      "Collecting snuggs>=1.4.1\n",
      "  Downloading snuggs-1.4.7-py3-none-any.whl (5.4 kB)\n",
      "Collecting click-plugins\n",
      "  Using cached click_plugins-1.1.1-py2.py3-none-any.whl (7.5 kB)\n",
      "Requirement already satisfied: pyparsing>=2.1.6 in /home/godson/devtools/anaconda3/lib/python3.9/site-packages (from snuggs>=1.4.1->rasterio) (3.0.9)\n",
      "Requirement already satisfied: zipp>=0.5 in /home/godson/devtools/anaconda3/lib/python3.9/site-packages (from importlib-metadata->rasterio) (3.8.0)\n",
      "Installing collected packages: snuggs, cligj, click-plugins, affine, rasterio\n",
      "Successfully installed affine-2.4.0 click-plugins-1.1.1 cligj-0.7.2 rasterio-1.3.10 snuggs-1.4.7\n"
     ]
    }
   ],
   "source": [
    "! pip install rasterio"
   ]
  },
  {
   "cell_type": "code",
   "execution_count": 6,
   "metadata": {},
   "outputs": [
    {
     "name": "stdout",
     "output_type": "stream",
     "text": [
      "Collecting pyproj\n",
      "  Using cached pyproj-3.6.1-cp39-cp39-manylinux_2_17_x86_64.manylinux2014_x86_64.whl (8.3 MB)\n",
      "Requirement already satisfied: certifi in /home/godson/devtools/anaconda3/lib/python3.9/site-packages (from pyproj) (2022.6.15)\n",
      "Installing collected packages: pyproj\n",
      "Successfully installed pyproj-3.6.1\n"
     ]
    }
   ],
   "source": [
    "! pip install pyproj\n"
   ]
  },
  {
   "cell_type": "code",
   "execution_count": 4,
   "metadata": {},
   "outputs": [
    {
     "ename": "IndexError",
     "evalue": "index -24531 is out of bounds for axis 0 with size 1942",
     "output_type": "error",
     "traceback": [
      "\u001b[0;31m---------------------------------------------------------------------------\u001b[0m",
      "\u001b[0;31mIndexError\u001b[0m                                Traceback (most recent call last)",
      "\u001b[0;32m/tmp/ipykernel_37330/2178384925.py\u001b[0m in \u001b[0;36m<module>\u001b[0;34m\u001b[0m\n\u001b[1;32m     15\u001b[0m \u001b[0mlongitude\u001b[0m \u001b[0;34m=\u001b[0m \u001b[0;36m39.2397\u001b[0m\u001b[0;34m\u001b[0m\u001b[0;34m\u001b[0m\u001b[0m\n\u001b[1;32m     16\u001b[0m \u001b[0mlatitude\u001b[0m \u001b[0;34m=\u001b[0m \u001b[0;34m-\u001b[0m\u001b[0;36m6.8190\u001b[0m\u001b[0;34m\u001b[0m\u001b[0;34m\u001b[0m\u001b[0m\n\u001b[0;32m---> 17\u001b[0;31m \u001b[0mvalue\u001b[0m \u001b[0;34m=\u001b[0m \u001b[0mget_value_at_lon_lat\u001b[0m\u001b[0;34m(\u001b[0m\u001b[0mfile_path\u001b[0m\u001b[0;34m,\u001b[0m \u001b[0mlongitude\u001b[0m\u001b[0;34m,\u001b[0m \u001b[0mlatitude\u001b[0m\u001b[0;34m)\u001b[0m\u001b[0;34m\u001b[0m\u001b[0;34m\u001b[0m\u001b[0m\n\u001b[0m\u001b[1;32m     18\u001b[0m \u001b[0mprint\u001b[0m\u001b[0;34m(\u001b[0m\u001b[0;34mf'The raster value at longitude {longitude} and latitude {latitude} is {value}'\u001b[0m\u001b[0;34m)\u001b[0m\u001b[0;34m\u001b[0m\u001b[0;34m\u001b[0m\u001b[0m\n",
      "\u001b[0;32m/tmp/ipykernel_37330/2178384925.py\u001b[0m in \u001b[0;36mget_value_at_lon_lat\u001b[0;34m(file_path, lon, lat)\u001b[0m\n\u001b[1;32m      7\u001b[0m \u001b[0;34m\u001b[0m\u001b[0m\n\u001b[1;32m      8\u001b[0m         \u001b[0;31m# Read the raster values at the given coordinates\u001b[0m\u001b[0;34m\u001b[0m\u001b[0;34m\u001b[0m\u001b[0m\n\u001b[0;32m----> 9\u001b[0;31m         \u001b[0mvalue\u001b[0m \u001b[0;34m=\u001b[0m \u001b[0msrc\u001b[0m\u001b[0;34m.\u001b[0m\u001b[0mread\u001b[0m\u001b[0;34m(\u001b[0m\u001b[0;36m1\u001b[0m\u001b[0;34m)\u001b[0m\u001b[0;34m[\u001b[0m\u001b[0mrow\u001b[0m\u001b[0;34m,\u001b[0m \u001b[0mcol\u001b[0m\u001b[0;34m]\u001b[0m  \u001b[0;31m# Assuming the value is in the first band\u001b[0m\u001b[0;34m\u001b[0m\u001b[0;34m\u001b[0m\u001b[0m\n\u001b[0m\u001b[1;32m     10\u001b[0m         \u001b[0;32mreturn\u001b[0m \u001b[0mvalue\u001b[0m\u001b[0;34m\u001b[0m\u001b[0;34m\u001b[0m\u001b[0m\n\u001b[1;32m     11\u001b[0m \u001b[0;34m\u001b[0m\u001b[0m\n",
      "\u001b[0;31mIndexError\u001b[0m: index -24531 is out of bounds for axis 0 with size 1942"
     ]
    }
   ],
   "source": [
    "import rasterio\n",
    "\n",
    "def get_value_at_lon_lat(file_path, lon, lat):\n",
    "    with rasterio.open(file_path) as src:\n",
    "        # Convert geographic coordinates to raster coordinates\n",
    "        row, col = src.index(lon, lat)\n",
    "        \n",
    "        # Read the raster values at the given coordinates\n",
    "        value = src.read(1)[row, col]  # Assuming the value is in the first band\n",
    "        return value\n",
    "\n",
    "# Example usage\n",
    "file_path = 'Geospatial Data/dar_nitrogen.tif'\n",
    "\n",
    "longitude = 39.2397\n",
    "latitude = -6.8190 \n",
    "value = get_value_at_lon_lat(file_path, longitude, latitude)\n",
    "print(f'The raster value at longitude {longitude} and latitude {latitude} is {value}')\n"
   ]
  },
  {
   "cell_type": "code",
   "execution_count": 15,
   "metadata": {},
   "outputs": [
    {
     "name": "stdout",
     "output_type": "stream",
     "text": [
      "CRS of the raster: EPSG:3857\n"
     ]
    }
   ],
   "source": [
    "import rasterio\n",
    "\n",
    "def check_crs(file_path):\n",
    "    with rasterio.open(file_path) as src:\n",
    "        print(\"CRS of the raster:\", src.crs)\n",
    "\n",
    "\n",
    "check_crs(file_path)\n"
   ]
  },
  {
   "cell_type": "code",
   "execution_count": 10,
   "metadata": {},
   "outputs": [
    {
     "name": "stdout",
     "output_type": "stream",
     "text": [
      "The raster value at longitude 39.2397 and latitude -6.819 is 67\n"
     ]
    }
   ],
   "source": [
    "from pyproj import Transformer\n",
    "\n",
    "def transform_coords(lon, lat, target_crs):\n",
    "    transformer = Transformer.from_crs(\"epsg:4326\", target_crs, always_xy=True)\n",
    "    return transformer.transform(lon, lat)\n",
    "\n",
    "def get_value_at_lon_lat(file_path, lon, lat):\n",
    "    with rasterio.open(file_path) as src:\n",
    "        # Transform coordinates if necessary\n",
    "        if src.crs.to_string() != 'EPSG:4326':\n",
    "            lon, lat = transform_coords(lon, lat, src.crs.to_string())\n",
    "        \n",
    "        # Convert geographic coordinates to raster coordinates\n",
    "        row, col = src.index(lon, lat)\n",
    "        \n",
    "        # Ensure the indices are within the raster dimensions\n",
    "        if not (0 <= row < src.height and 0 <= col < src.width):\n",
    "            return \"Coordinates are outside the raster bounds\"\n",
    "        \n",
    "        # Read the raster values at the given coordinates\n",
    "        value = src.read(1)[row, col]  # Assuming the value is in the first band\n",
    "        return value\n",
    "\n",
    "# Example usage\n",
    "longitude = 39.2397\n",
    "latitude = -6.8190 \n",
    "file_path = 'Geospatial Data/dar_ph.tif'\n",
    "value = get_value_at_lon_lat(file_path, longitude, latitude)\n",
    "\n",
    "print(f'The raster value at longitude {longitude} and latitude {latitude} is {value}')\n"
   ]
  },
  {
   "cell_type": "code",
   "execution_count": 14,
   "metadata": {},
   "outputs": [
    {
     "name": "stdout",
     "output_type": "stream",
     "text": [
      "<open DatasetReader name='Geospatial Data/dar_nitrogen.tif' mode='r'>\n",
      "The raster value at longitude 39.2397 and latitude -6.819 is 74\n",
      "Metadata: {'AREA_OR_POINT': 'Area'}\n"
     ]
    }
   ],
   "source": [
    "import rasterio\n",
    "from pyproj import Transformer\n",
    "\n",
    "def transform_coords(lon, lat, src_crs):\n",
    "    # Transformer to convert from geographic (WGS 84) to the raster's CRS\n",
    "    transformer = Transformer.from_crs(\"EPSG:4326\", src_crs, always_xy=True)\n",
    "    return transformer.transform(lon, lat)\n",
    "\n",
    "def get_value_and_metadata_at_lon_lat(file_path, lon, lat):\n",
    "    with rasterio.open(file_path) as src:\n",
    "        # Transform input longitude and latitude to the coordinate system of the raster\n",
    "        lon, lat = transform_coords(lon, lat, src.crs)\n",
    "\n",
    "        # Convert transformed geographic coordinates to raster coordinates\n",
    "        row, col = src.index(lon, lat)\n",
    "\n",
    "        # Check if the indices are within the bounds of the raster\n",
    "        if not (0 <= row < src.height and 0 <= col < src.width):\n",
    "            return \"Coordinates are outside the raster bounds\", None\n",
    "        \n",
    "        # Read the raster values at the given coordinates\n",
    "        value = src.read(1)[row, col]  # Assuming the value is in the first band\n",
    "\n",
    "        # Read extra metadata (tags) from the raster\n",
    "        # You can also access src.tags(band_index) if metadata is band-specific\n",
    "        print(src)\n",
    "        metadata = src.tags()\n",
    "\n",
    "        return value, metadata\n",
    "\n",
    "# Example usage\n",
    "file_path = 'Geospatial Data/dar_nitrogen.tif'\n",
    "longitude = 39.2397\n",
    "latitude = -6.8190 \n",
    "value, metadata = get_value_and_metadata_at_lon_lat(file_path, longitude, latitude)\n",
    "print(f\"The raster value at longitude {longitude} and latitude {latitude} is {value}\")\n",
    "print(\"Metadata:\", metadata)\n"
   ]
  },
  {
   "cell_type": "code",
   "execution_count": 16,
   "metadata": {},
   "outputs": [],
   "source": [
    "dataset = rasterio.open('Geospatial Data/dar_nitrogen.tif')"
   ]
  },
  {
   "cell_type": "code",
   "execution_count": 17,
   "metadata": {},
   "outputs": [
    {
     "data": {
      "text/plain": [
       "'Geospatial Data/dar_nitrogen.tif'"
      ]
     },
     "execution_count": 17,
     "metadata": {},
     "output_type": "execute_result"
    }
   ],
   "source": [
    "dataset.name"
   ]
  },
  {
   "cell_type": "code",
   "execution_count": 18,
   "metadata": {},
   "outputs": [
    {
     "data": {
      "text/plain": [
       "4"
      ]
     },
     "execution_count": 18,
     "metadata": {},
     "output_type": "execute_result"
    }
   ],
   "source": [
    "dataset.count"
   ]
  },
  {
   "cell_type": "code",
   "execution_count": 19,
   "metadata": {},
   "outputs": [
    {
     "data": {
      "text/plain": [
       "{1: 'uint8', 2: 'uint8', 3: 'uint8', 4: 'uint8'}"
      ]
     },
     "execution_count": 19,
     "metadata": {},
     "output_type": "execute_result"
    }
   ],
   "source": [
    "{i: dtype for i, dtype in zip(dataset.indexes, dataset.dtypes)}"
   ]
  },
  {
   "cell_type": "code",
   "execution_count": 40,
   "metadata": {},
   "outputs": [
    {
     "data": {
      "text/plain": [
       "{'AREA_OR_POINT': 'Area'}"
      ]
     },
     "execution_count": 40,
     "metadata": {},
     "output_type": "execute_result"
    }
   ],
   "source": [
    "dataset"
   ]
  },
  {
   "cell_type": "code",
   "execution_count": 37,
   "metadata": {},
   "outputs": [
    {
     "data": {
      "text/plain": [
       "[4339327.192356968, 30.0, 0.0, -735916.8695475701, 0.0, -30.0]"
      ]
     },
     "execution_count": 37,
     "metadata": {},
     "output_type": "execute_result"
    }
   ],
   "source": [
    "band1"
   ]
  },
  {
   "cell_type": "code",
   "execution_count": 30,
   "metadata": {},
   "outputs": [
    {
     "ename": "AttributeError",
     "evalue": "'DatasetReader' object has no attribute 'extra_fields'",
     "output_type": "error",
     "traceback": [
      "\u001b[0;31m---------------------------------------------------------------------------\u001b[0m",
      "\u001b[0;31mAttributeError\u001b[0m                            Traceback (most recent call last)",
      "\u001b[0;32m/tmp/ipykernel_37330/2297057250.py\u001b[0m in \u001b[0;36m<module>\u001b[0;34m\u001b[0m\n\u001b[0;32m----> 1\u001b[0;31m \u001b[0mdataset\u001b[0m\u001b[0;34m.\u001b[0m\u001b[0mextra_fields\u001b[0m\u001b[0;34m[\u001b[0m\u001b[0;34m\"back-transformation\"\u001b[0m\u001b[0;34m]\u001b[0m\u001b[0;34m\u001b[0m\u001b[0;34m\u001b[0m\u001b[0m\n\u001b[0m",
      "\u001b[0;31mAttributeError\u001b[0m: 'DatasetReader' object has no attribute 'extra_fields'"
     ]
    }
   ],
   "source": [
    "dataset.extra_fields[\"back-transformation\"]"
   ]
  },
  {
   "cell_type": "code",
   "execution_count": null,
   "metadata": {},
   "outputs": [],
   "source": [
    "https://api.mapbox.com/search/geocode/v6/reverse?longitude={longitude}&latitude={latitude}"
   ]
  },
  {
   "cell_type": "code",
   "execution_count": 2,
   "metadata": {},
   "outputs": [
    {
     "name": "stdout",
     "output_type": "stream",
     "text": [
      "{'type': 'FeatureCollection', 'query': [32, -6], 'features': [{'id': 'region.99560', 'type': 'Feature', 'place_type': ['region'], 'relevance': 1, 'properties': {'mapbox_id': 'dXJuOm1ieHBsYzpBWVRv', 'wikidata': 'Q2682731', 'short_code': 'TZ-28'}, 'text': 'Katavi', 'place_name': 'Katavi, Tanzania', 'bbox': [29.903673, -7.679326, 32.759552, -5.135649], 'center': [31.0729871, -6.3429524], 'geometry': {'type': 'Point', 'coordinates': [31.0729871, -6.3429524]}, 'context': [{'id': 'country.8936', 'mapbox_id': 'dXJuOm1ieHBsYzpJdWc', 'wikidata': 'Q924', 'short_code': 'tz', 'text': 'Tanzania'}]}, {'id': 'country.8936', 'type': 'Feature', 'place_type': ['country'], 'relevance': 1, 'properties': {'mapbox_id': 'dXJuOm1ieHBsYzpJdWc', 'wikidata': 'Q924', 'short_code': 'tz'}, 'text': 'Tanzania', 'place_name': 'Tanzania', 'bbox': [29.390778, -11.761345, 40.5624687, -0.985788], 'center': [34.8234540265851, -6.27035338020445], 'geometry': {'type': 'Point', 'coordinates': [34.8234540265851, -6.27035338020445]}}], 'attribution': 'NOTICE: © 2024 Mapbox and its suppliers. All rights reserved. Use of this data is subject to the Mapbox Terms of Service (https://www.mapbox.com/about/maps/). This response and the information it contains may not be retained. POI(s) provided by Foursquare.'}\n",
      "Katavi, Tanzania\n"
     ]
    }
   ],
   "source": [
    "import requests\n",
    "\n",
    "def reverse_geocode(latitude, longitude, access_token):\n",
    "    url = f\"https://api.mapbox.com/geocoding/v5/mapbox.places/{32},{-6}.json?access_token=pk.eyJ1IjoiZ29kc29ubnR1bmdpIiwiYSI6ImNsdjhjazB6cDAxcjYyaXFsaTMzdjV0eWoifQ.iPSTQY-h8G7pB3u7GVktPA&permanent=true\"\n",
    "    response = requests.get(url)\n",
    "    if response.status_code == 200:\n",
    "        data = response.json()\n",
    "        print(data)\n",
    "        # The 'features' list contains address information, with the most relevant usually first\n",
    "        if data['features']:\n",
    "            return data['features'][0]['place_name']\n",
    "    return None\n",
    "\n",
    "# Usage\n",
    "latitude = 40.7128\n",
    "longitude = -74.0060\n",
    "access_token = \"your_mapbox_access_token_here\"\n",
    "address = reverse_geocode(latitude, longitude, access_token)\n",
    "print(address)"
   ]
  },
  {
   "cell_type": "code",
   "execution_count": 2,
   "metadata": {},
   "outputs": [],
   "source": [
    "import pandas as pd\n",
    "crop_price_trends = pd.read_csv(\"data/crop_prices_trend.csv\")"
   ]
  },
  {
   "cell_type": "markdown",
   "metadata": {},
   "source": []
  },
  {
   "cell_type": "code",
   "execution_count": 3,
   "metadata": {},
   "outputs": [
    {
     "data": {
      "text/plain": [
       "array(['Maize', 'Rice', 'Beans', 'Maize (white)', 'Maize flour (white)',\n",
       "       'Potatoes (Irish)', 'Sweet potatoes', 'Wheat flour',\n",
       "       'Fish (fresh)', 'Meat (beef, with bones)',\n",
       "       'Meat (beef, without bones)', 'Meat (goat)', 'Sugar',\n",
       "       'Oil (cotton)', 'Oil (sunflower)', 'Beans (dry)', 'Beans (green)',\n",
       "       'Beans (spotted)', 'Soybeans', 'Cabbage', 'Carrots', 'Lettuce',\n",
       "       'Onions', 'Tomatoes', 'Tomatoes (bitter)', 'Fuel (diesel)',\n",
       "       'Fuel (petrol)', 'Millet (bulrush)', 'Millet (finger)', 'Sorghum',\n",
       "       'Wheat'], dtype=object)"
      ]
     },
     "execution_count": 3,
     "metadata": {},
     "output_type": "execute_result"
    }
   ],
   "source": [
    "crop_price_trends[\"commodity\"].unique()"
   ]
  },
  {
   "cell_type": "code",
   "execution_count": null,
   "metadata": {},
   "outputs": [],
   "source": [
    "'Maize', 'Rice', 'Beans''Wheat''Sorghum','Millet (bulrush)', 'Millet (finger)','Potatoes (Irish)'"
   ]
  }
 ],
 "metadata": {
  "kernelspec": {
   "display_name": "base",
   "language": "python",
   "name": "python3"
  },
  "language_info": {
   "codemirror_mode": {
    "name": "ipython",
    "version": 3
   },
   "file_extension": ".py",
   "mimetype": "text/x-python",
   "name": "python",
   "nbconvert_exporter": "python",
   "pygments_lexer": "ipython3",
   "version": "3.9.13"
  }
 },
 "nbformat": 4,
 "nbformat_minor": 2
}
