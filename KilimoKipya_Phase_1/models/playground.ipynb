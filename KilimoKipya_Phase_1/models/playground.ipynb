{
 "cells": [
  {
   "cell_type": "code",
   "execution_count": 2,
   "metadata": {},
   "outputs": [
    {
     "name": "stdout",
     "output_type": "stream",
     "text": [
      "          label       N       P       K  temperature   humidity        ph  \\\n",
      "0         apple   20.80  134.22  199.89    22.630942  92.333383  5.929663   \n",
      "1        banana  100.23   82.01   50.05    27.376798  80.358123  5.983893   \n",
      "2     blackgram   40.02   67.47   19.24    29.973340  65.118426  7.133952   \n",
      "3      chickpea   40.09   67.79   79.92    18.872847  16.860439  7.336957   \n",
      "4       coconut   21.98   16.93   30.59    27.409892  94.844272  5.976562   \n",
      "5        coffee  101.20   28.74   29.94    25.540477  58.869846  6.790308   \n",
      "6        cotton  117.77   46.24   19.56    23.988958  79.843474  6.912675   \n",
      "7        grapes   23.18  132.53  200.11    23.849575  81.875228  6.025937   \n",
      "8          jute   78.40   46.86   39.99    24.958376  79.639864  6.732778   \n",
      "9   kidneybeans   20.75   67.54   20.05    20.115085  21.605357  5.749411   \n",
      "10       lentil   18.77   68.36   19.41    24.509052  64.804785  6.927932   \n",
      "11        maize   77.76   48.44   19.79    22.389204  65.092249  6.245190   \n",
      "12        mango   20.07   27.18   29.92    31.208770  50.156573  5.766373   \n",
      "13    mothbeans   21.44   48.01   20.23    28.194920  53.160418  6.831174   \n",
      "14     mungbean   20.99   47.28   19.87    28.525775  85.499975  6.723957   \n",
      "15    muskmelon  100.32   17.72   50.08    28.663066  92.342802  6.358805   \n",
      "16       orange   19.58   16.55   10.01    22.765725  92.170209  7.016957   \n",
      "17       papaya   49.88   59.05   50.04    33.723859  92.403388  6.741442   \n",
      "18   pigeonpeas   20.73   67.73   20.29    27.741762  48.061633  5.794175   \n",
      "19  pomegranate   18.87   18.75   40.21    21.837842  90.125504  6.429172   \n",
      "20         rice   79.89   47.58   39.87    23.689332  82.272822  6.425471   \n",
      "21   watermelon   99.42   17.00   50.22    25.591767  85.160375  6.495778   \n",
      "\n",
      "      rainfall  \n",
      "0   112.654779  \n",
      "1   104.626980  \n",
      "2    67.884151  \n",
      "3    80.058977  \n",
      "4   175.686646  \n",
      "5   158.066295  \n",
      "6    80.398043  \n",
      "7    69.611829  \n",
      "8   174.792798  \n",
      "9   105.919778  \n",
      "10   45.680454  \n",
      "11   84.766988  \n",
      "12   94.704515  \n",
      "13   51.198487  \n",
      "14   48.403601  \n",
      "15   24.689952  \n",
      "16  110.474969  \n",
      "17  142.627839  \n",
      "18  149.457564  \n",
      "19  107.528442  \n",
      "20  236.181114  \n",
      "21   50.786219  \n"
     ]
    }
   ],
   "source": [
    "import pandas as pd\n",
    "\n",
    "\n",
    "\n",
    "# Convert the string data to a DataFrame\n",
    "df = pd.read_csv(\"Data/crop_recommendation.csv\")\n",
    "\n",
    "# Group by 'label' and calculate the mean for other columns\n",
    "grouped_data = df.groupby('label').mean().reset_index()\n",
    "\n",
    "# Display the results\n",
    "print(grouped_data)\n",
    "\n",
    "grouped_data.to_csv(\"crops_with_requirements.csv\",index=False)"
   ]
  },
  {
   "cell_type": "code",
   "execution_count": null,
   "metadata": {},
   "outputs": [],
   "source": []
  }
 ],
 "metadata": {
  "kernelspec": {
   "display_name": "base",
   "language": "python",
   "name": "python3"
  },
  "language_info": {
   "codemirror_mode": {
    "name": "ipython",
    "version": 3
   },
   "file_extension": ".py",
   "mimetype": "text/x-python",
   "name": "python",
   "nbconvert_exporter": "python",
   "pygments_lexer": "ipython3",
   "version": "3.9.13"
  }
 },
 "nbformat": 4,
 "nbformat_minor": 2
}
