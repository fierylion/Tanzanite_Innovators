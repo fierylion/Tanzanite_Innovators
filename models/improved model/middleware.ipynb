{
 "cells": [
  {
   "cell_type": "code",
   "execution_count": 11,
   "metadata": {},
   "outputs": [
    {
     "name": "stdout",
     "output_type": "stream",
     "text": [
      "[{'region': 'Arusha', 'districts': [{'district': 'Arusha', 'crops': ['Coffee', 'Maize', 'Bananas']}, {'district': 'Karatu', 'crops': ['Coffee', 'Maize', 'Wheat']}, {'district': 'Longido', 'crops': ['Bananas', 'Maize', 'Sorghum', 'Wheat']}, {'district': 'Monduli', 'crops': ['Coffee', 'Bananas', 'Maize', 'Pigeon peas']}, {'district': 'Ngorongoro', 'crops': ['Maize', 'Sorghum']}]}, {'region': 'Dar es-Salaam', 'districts': [{'district': 'Ilala', 'crops': ['Watermelons', 'Coconuts']}, {'district': 'Kinondoni', 'crops': ['Watermelons', 'Mangoes']}, {'district': 'Temeke', 'crops': ['Watermelons', 'Mangoes', 'Papaya']}]}, {'region': 'Dodoma', 'districts': [{'district': 'Bahi', 'crops': ['Grapes', 'Rice', 'Sorghum', 'Pearl millet']}, {'district': 'Chamwino', 'crops': ['Grapes', 'Sorghum', 'Pigeon peas', 'Rice']}, {'district': 'Chemba', 'crops': ['Sorghum']}, {'district': 'Dodoma', 'crops': ['Grapes', 'Sorghum', 'Pearl millet', 'Maize']}, {'district': 'Kondoa', 'crops': ['Pigeon peas', 'Sorghum', 'Maize']}, {'district': 'Mpwapwa', 'crops': ['Sorghum', 'Pigeon peas', 'Maize']}, {'district': 'Kongwa', 'crops': ['Sorghum', 'Pigeon peas', 'Maize']}]}, {'region': 'Geita', 'districts': [{'district': 'Bukombe', 'crops': ['Cotton', 'Maize']}, {'district': 'Chato', 'crops': ['Cotton', 'Maize']}, {'district': 'Geita', 'crops': ['Cotton', 'Rice', 'Maize']}, {'district': 'Mbogwe', 'crops': ['Cotton', 'Maize']}, {'district': \"Nyang'hwale\", 'crops': ['Cotton', 'Maize']}]}]\n"
     ]
    }
   ],
   "source": [
    "import json\n",
    "\n",
    "# Path to the JSON file\n",
    "json_file_path = 'Data/data.json'\n",
    "\n",
    "# Open the JSON file and convert its content to a dictionary\n",
    "with open(json_file_path, 'r') as file:\n",
    "    dictionary = json.load(file)\n",
    "\n",
    "print(dictionary)"
   ]
  },
  {
   "cell_type": "code",
   "execution_count": 17,
   "metadata": {},
   "outputs": [],
   "source": [
    "def check_word_inclusion(word1, word2):\n",
    "    # Convert both words to lowercase\n",
    "    word1 = word1.lower()\n",
    "    word2 = word2.lower()\n",
    "    \n",
    "    # Check if word2 is in word1\n",
    "    if word2 in word1:\n",
    "        return True\n",
    "    \n",
    "    # Calculate the percentage of word2 in word1, considering order\n",
    "    word1_index = 0\n",
    "    matches = 0\n",
    "    \n",
    "    for char in word2:\n",
    "        # Find the next occurrence of the character in word1\n",
    "        while word1_index < len(word1) and word1[word1_index] != char:\n",
    "            word1_index += 1\n",
    "        \n",
    "        # If we found a match, increment matches and move to next character in word1\n",
    "        if word1_index < len(word1):\n",
    "            matches += 1\n",
    "            word1_index += 1\n",
    "        else:\n",
    "            # If we've reached the end of word1, stop searching\n",
    "            break\n",
    "    \n",
    "    percentage = (matches / len(word2)) * 100\n",
    "    \n",
    "    # Return True if percentage is more than 90, False otherwise\n",
    "    return percentage > 90"
   ]
  },
  {
   "cell_type": "code",
   "execution_count": 21,
   "metadata": {},
   "outputs": [
    {
     "name": "stdout",
     "output_type": "stream",
     "text": [
      "{'region': 'Dar es-Salaam', 'districts': [{'district': 'Ilala', 'crops': ['Watermelons', 'Coconuts']}, {'district': 'Kinondoni', 'crops': ['Watermelons', 'Mangoes']}, {'district': 'Temeke', 'crops': ['Watermelons', 'Mangoes', 'Papaya']}]}\n"
     ]
    },
    {
     "data": {
      "text/plain": [
       "['Watermelons', 'Mangoes']"
      ]
     },
     "execution_count": 21,
     "metadata": {},
     "output_type": "execute_result"
    }
   ],
   "source": [
    "\n",
    "region=\"Dar es-Salaam\"\n",
    "district = \"Kinondoni\"\n",
    "def get_crops_regional(district,region):\n",
    "    for value in dictionary:\n",
    "    \n",
    "        if check_word_inclusion(region ,  value[\"region\"]):\n",
    "            print(value)\n",
    "            for district_value in value[\"districts\"]:\n",
    "        \n",
    "                if check_word_inclusion(district ,  district_value[\"district\"]):\n",
    "                    return district_value[\"crops\"]\n",
    "get_crops_regional(district,region)\n"
   ]
  },
  {
   "cell_type": "code",
   "execution_count": null,
   "metadata": {},
   "outputs": [],
   "source": []
  }
 ],
 "metadata": {
  "kernelspec": {
   "display_name": "base",
   "language": "python",
   "name": "python3"
  },
  "language_info": {
   "codemirror_mode": {
    "name": "ipython",
    "version": 3
   },
   "file_extension": ".py",
   "mimetype": "text/x-python",
   "name": "python",
   "nbconvert_exporter": "python",
   "pygments_lexer": "ipython3",
   "version": "3.9.13"
  }
 },
 "nbformat": 4,
 "nbformat_minor": 2
}
