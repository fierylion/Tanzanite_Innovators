{
 "cells": [
  {
   "cell_type": "code",
   "execution_count": 1,
   "metadata": {},
   "outputs": [],
   "source": [
    "import numpy as np\n",
    "from sklearn.ensemble import IsolationForest\n",
    "import pandas as pd\n",
    "from sklearn.neighbors import NearestNeighbors\n",
    "from sklearn.model_selection import train_test_split "
   ]
  },
  {
   "cell_type": "code",
   "execution_count": 3,
   "metadata": {},
   "outputs": [],
   "source": [
    "data = pd.read_csv(\"../Data/maize_labeled.csv\")\n",
    "X = data[[\"nitrogen\",\"phosphorus\",\"potassium\",\"ph\",\"bulk_density\",\"cation_exchange\"]]\n",
    "y= data[\"YA\"]\n",
    "X_train,X_test,y_train,y_test = train_test_split(X,y,test_size=0.2,random_state=20,shuffle=True)\n"
   ]
  },
  {
   "cell_type": "code",
   "execution_count": 4,
   "metadata": {},
   "outputs": [
    {
     "data": {
      "text/plain": [
       "0      0.250219\n",
       "1      0.171145\n",
       "2      1.980000\n",
       "3      1.050000\n",
       "4      1.920000\n",
       "         ...   \n",
       "103    0.660000\n",
       "104    4.242857\n",
       "105    3.285714\n",
       "106    2.160000\n",
       "107    4.242857\n",
       "Name: YA, Length: 108, dtype: float64"
      ]
     },
     "execution_count": 4,
     "metadata": {},
     "output_type": "execute_result"
    }
   ],
   "source": [
    "y"
   ]
  },
  {
   "cell_type": "markdown",
   "metadata": {},
   "source": [
    "### One-class Svm"
   ]
  },
  {
   "cell_type": "code",
   "execution_count": 74,
   "metadata": {},
   "outputs": [
    {
     "data": {
      "text/plain": [
       "0.8636363636363636"
      ]
     },
     "execution_count": 74,
     "metadata": {},
     "output_type": "execute_result"
    }
   ],
   "source": [
    "from sklearn.svm import OneClassSVM\n",
    "import numpy as np\n",
    "from sklearn.metrics import accuracy_score\n",
    "\n",
    "# Assuming X_train is your training data for the single class\n",
    "clf = OneClassSVM(gamma='scale', nu=0.008).fit(X_train)\n",
    "\n",
    "scores_test = clf.predict(X_test)\n",
    "accuracy = accuracy_score(scores_test,[1 for _ in range(len(scores_test))])\n",
    "accuracy\n",
    "-8.9327370\n",
    "33.5833040"
   ]
  },
  {
   "cell_type": "code",
   "execution_count": 79,
   "metadata": {},
   "outputs": [
    {
     "name": "stderr",
     "output_type": "stream",
     "text": [
      "/home/godson/devtools/anaconda3/lib/python3.9/site-packages/sklearn/base.py:465: UserWarning: X does not have valid feature names, but OneClassSVM was fitted with feature names\n",
      "  warnings.warn(\n"
     ]
    },
    {
     "data": {
      "text/plain": [
       "array([-1])"
      ]
     },
     "execution_count": 79,
     "metadata": {},
     "output_type": "execute_result"
    }
   ],
   "source": [
    "value= clf.predict([[0.8,7.2,48.4,5.6,1.5,5.7]])\n",
    "value"
   ]
  },
  {
   "cell_type": "code",
   "execution_count": 82,
   "metadata": {},
   "outputs": [
    {
     "name": "stderr",
     "output_type": "stream",
     "text": [
      "/home/godson/devtools/anaconda3/lib/python3.9/site-packages/sklearn/base.py:465: UserWarning: X does not have valid feature names, but OneClassSVM was fitted with feature names\n",
      "  warnings.warn(\n"
     ]
    },
    {
     "data": {
      "text/plain": [
       "array([-1])"
      ]
     },
     "execution_count": 82,
     "metadata": {},
     "output_type": "execute_result"
    }
   ],
   "source": [
    "value= clf.predict([[1.8,6.4,329.3,5.9,1.03,15.4]])\n",
    "value"
   ]
  },
  {
   "cell_type": "code",
   "execution_count": null,
   "metadata": {},
   "outputs": [],
   "source": [
    "value= clf.predict([[1.8,6.4,329.3,5.9,0.99,15.4]])\n",
    "value"
   ]
  },
  {
   "cell_type": "code",
   "execution_count": 67,
   "metadata": {},
   "outputs": [
    {
     "ename": "AttributeError",
     "evalue": "'OneClassSVM' object has no attribute 'decis'",
     "output_type": "error",
     "traceback": [
      "\u001b[0;31m---------------------------------------------------------------------------\u001b[0m",
      "\u001b[0;31mAttributeError\u001b[0m                            Traceback (most recent call last)",
      "\u001b[0;32m/tmp/ipykernel_25471/411534293.py\u001b[0m in \u001b[0;36m<module>\u001b[0;34m\u001b[0m\n\u001b[1;32m      2\u001b[0m \u001b[0;34m\u001b[0m\u001b[0m\n\u001b[1;32m      3\u001b[0m \u001b[0;34m\u001b[0m\u001b[0m\n\u001b[0;32m----> 4\u001b[0;31m \u001b[0mscores_train\u001b[0m \u001b[0;34m=\u001b[0m \u001b[0mclf\u001b[0m\u001b[0;34m.\u001b[0m\u001b[0mdecis\u001b[0m\u001b[0;34m(\u001b[0m\u001b[0;34m[\u001b[0m\u001b[0;34m[\u001b[0m\u001b[0;36m20\u001b[0m\u001b[0;34m,\u001b[0m\u001b[0;36m7.2\u001b[0m\u001b[0;34m,\u001b[0m\u001b[0;36m48.4\u001b[0m\u001b[0;34m,\u001b[0m\u001b[0;36m5.6\u001b[0m\u001b[0;34m,\u001b[0m\u001b[0;36m1.5\u001b[0m\u001b[0;34m,\u001b[0m\u001b[0;36m5.7\u001b[0m\u001b[0;34m]\u001b[0m\u001b[0;34m]\u001b[0m\u001b[0;34m)\u001b[0m\u001b[0;34m\u001b[0m\u001b[0;34m\u001b[0m\u001b[0m\n\u001b[0m\u001b[1;32m      5\u001b[0m \u001b[0mprint\u001b[0m\u001b[0;34m(\u001b[0m\u001b[0mscores_train\u001b[0m\u001b[0;34m)\u001b[0m\u001b[0;34m\u001b[0m\u001b[0;34m\u001b[0m\u001b[0m\n\u001b[1;32m      6\u001b[0m \u001b[0;31m# Normalize scores to get probabilities\u001b[0m\u001b[0;34m\u001b[0m\u001b[0;34m\u001b[0m\u001b[0m\n",
      "\u001b[0;31mAttributeError\u001b[0m: 'OneClassSVM' object has no attribute 'decis'"
     ]
    }
   ],
   "source": [
    "from sklearn.preprocessing import MinMaxScaler\n",
    "\n",
    "\n",
    "scores_train = clf.decis([[20,7.2,48.4,5.6,1.5,5.7]])\n",
    "print(scores_train)\n",
    "# Normalize scores to get probabilities\n",
    "scaler = MinMaxScaler()\n",
    "scores_train_scaled = scaler.fit_transform(scores_train.reshape(-1, 1))\n",
    "print(\"Training Data Anomaly Probabilities:\", scores_train_scaled)\n"
   ]
  },
  {
   "cell_type": "code",
   "execution_count": 8,
   "metadata": {},
   "outputs": [
    {
     "data": {
      "text/html": [
       "<style>#sk-container-id-1 {color: black;}#sk-container-id-1 pre{padding: 0;}#sk-container-id-1 div.sk-toggleable {background-color: white;}#sk-container-id-1 label.sk-toggleable__label {cursor: pointer;display: block;width: 100%;margin-bottom: 0;padding: 0.3em;box-sizing: border-box;text-align: center;}#sk-container-id-1 label.sk-toggleable__label-arrow:before {content: \"▸\";float: left;margin-right: 0.25em;color: #696969;}#sk-container-id-1 label.sk-toggleable__label-arrow:hover:before {color: black;}#sk-container-id-1 div.sk-estimator:hover label.sk-toggleable__label-arrow:before {color: black;}#sk-container-id-1 div.sk-toggleable__content {max-height: 0;max-width: 0;overflow: hidden;text-align: left;background-color: #f0f8ff;}#sk-container-id-1 div.sk-toggleable__content pre {margin: 0.2em;color: black;border-radius: 0.25em;background-color: #f0f8ff;}#sk-container-id-1 input.sk-toggleable__control:checked~div.sk-toggleable__content {max-height: 200px;max-width: 100%;overflow: auto;}#sk-container-id-1 input.sk-toggleable__control:checked~label.sk-toggleable__label-arrow:before {content: \"▾\";}#sk-container-id-1 div.sk-estimator input.sk-toggleable__control:checked~label.sk-toggleable__label {background-color: #d4ebff;}#sk-container-id-1 div.sk-label input.sk-toggleable__control:checked~label.sk-toggleable__label {background-color: #d4ebff;}#sk-container-id-1 input.sk-hidden--visually {border: 0;clip: rect(1px 1px 1px 1px);clip: rect(1px, 1px, 1px, 1px);height: 1px;margin: -1px;overflow: hidden;padding: 0;position: absolute;width: 1px;}#sk-container-id-1 div.sk-estimator {font-family: monospace;background-color: #f0f8ff;border: 1px dotted black;border-radius: 0.25em;box-sizing: border-box;margin-bottom: 0.5em;}#sk-container-id-1 div.sk-estimator:hover {background-color: #d4ebff;}#sk-container-id-1 div.sk-parallel-item::after {content: \"\";width: 100%;border-bottom: 1px solid gray;flex-grow: 1;}#sk-container-id-1 div.sk-label:hover label.sk-toggleable__label {background-color: #d4ebff;}#sk-container-id-1 div.sk-serial::before {content: \"\";position: absolute;border-left: 1px solid gray;box-sizing: border-box;top: 0;bottom: 0;left: 50%;z-index: 0;}#sk-container-id-1 div.sk-serial {display: flex;flex-direction: column;align-items: center;background-color: white;padding-right: 0.2em;padding-left: 0.2em;position: relative;}#sk-container-id-1 div.sk-item {position: relative;z-index: 1;}#sk-container-id-1 div.sk-parallel {display: flex;align-items: stretch;justify-content: center;background-color: white;position: relative;}#sk-container-id-1 div.sk-item::before, #sk-container-id-1 div.sk-parallel-item::before {content: \"\";position: absolute;border-left: 1px solid gray;box-sizing: border-box;top: 0;bottom: 0;left: 50%;z-index: -1;}#sk-container-id-1 div.sk-parallel-item {display: flex;flex-direction: column;z-index: 1;position: relative;background-color: white;}#sk-container-id-1 div.sk-parallel-item:first-child::after {align-self: flex-end;width: 50%;}#sk-container-id-1 div.sk-parallel-item:last-child::after {align-self: flex-start;width: 50%;}#sk-container-id-1 div.sk-parallel-item:only-child::after {width: 0;}#sk-container-id-1 div.sk-dashed-wrapped {border: 1px dashed gray;margin: 0 0.4em 0.5em 0.4em;box-sizing: border-box;padding-bottom: 0.4em;background-color: white;}#sk-container-id-1 div.sk-label label {font-family: monospace;font-weight: bold;display: inline-block;line-height: 1.2em;}#sk-container-id-1 div.sk-label-container {text-align: center;}#sk-container-id-1 div.sk-container {/* jupyter's `normalize.less` sets `[hidden] { display: none; }` but bootstrap.min.css set `[hidden] { display: none !important; }` so we also need the `!important` here to be able to override the default hidden behavior on the sphinx rendered scikit-learn.org. See: https://github.com/scikit-learn/scikit-learn/issues/21755 */display: inline-block !important;position: relative;}#sk-container-id-1 div.sk-text-repr-fallback {display: none;}</style><div id=\"sk-container-id-1\" class=\"sk-top-container\"><div class=\"sk-text-repr-fallback\"><pre>NearestNeighbors(n_neighbors=3)</pre><b>In a Jupyter environment, please rerun this cell to show the HTML representation or trust the notebook. <br />On GitHub, the HTML representation is unable to render, please try loading this page with nbviewer.org.</b></div><div class=\"sk-container\" hidden><div class=\"sk-item\"><div class=\"sk-estimator sk-toggleable\"><input class=\"sk-toggleable__control sk-hidden--visually\" id=\"sk-estimator-id-1\" type=\"checkbox\" checked><label for=\"sk-estimator-id-1\" class=\"sk-toggleable__label sk-toggleable__label-arrow\">NearestNeighbors</label><div class=\"sk-toggleable__content\"><pre>NearestNeighbors(n_neighbors=3)</pre></div></div></div></div></div>"
      ],
      "text/plain": [
       "NearestNeighbors(n_neighbors=3)"
      ]
     },
     "execution_count": 8,
     "metadata": {},
     "output_type": "execute_result"
    }
   ],
   "source": [
    "\n",
    "\n",
    "# Example data (training set)\n",
    "\n",
    "# Create and fit the Isolation Forest model\n",
    "knn = NearestNeighbors(n_neighbors=3)\n",
    "knn.fit(X_train)\n",
    "\n",
    "\n"
   ]
  },
  {
   "cell_type": "code",
   "execution_count": 10,
   "metadata": {},
   "outputs": [
    {
     "name": "stdout",
     "output_type": "stream",
     "text": [
      "Threshold: 10.90720187488661\n",
      "Test Data Anomalies: [True, True]\n"
     ]
    },
    {
     "name": "stderr",
     "output_type": "stream",
     "text": [
      "/home/godson/devtools/anaconda3/lib/python3.9/site-packages/sklearn/base.py:465: UserWarning: X does not have valid feature names, but NearestNeighbors was fitted with feature names\n",
      "  warnings.warn(\n",
      "/home/godson/devtools/anaconda3/lib/python3.9/site-packages/sklearn/base.py:465: UserWarning: X does not have valid feature names, but NearestNeighbors was fitted with feature names\n",
      "  warnings.warn(\n"
     ]
    }
   ],
   "source": [
    "# Example new data\n",
    "distances, _ = knn.kneighbors(X_train)\n",
    "avg_distances = np.mean(distances, axis=1)\n",
    "\n",
    "# Set a threshold as the mean + standard deviation of the average distances\n",
    "threshold = np.mean(avg_distances) + np.std(avg_distances)\n",
    "print(\"Threshold:\", threshold)\n",
    "\n",
    "# Function to determine if a point is an anomaly\n",
    "def is_anomaly(point, threshold):\n",
    "    distances, _ = knn.kneighbors([point])\n",
    "    avg_distance = np.mean(distances)\n",
    "    return avg_distance > threshold\n",
    "\n",
    "# Example new data\n",
    "X_test = np.array([[0.4, 7,100,6.5,1.3,8], [10,4,5,6,7, 10]])\n",
    "\n",
    "# Predict anomalies in new data\n",
    "test_anomalies = [is_anomaly(point, threshold) for point in X_test]\n",
    "print(\"Test Data Anomalies:\", test_anomalies)"
   ]
  },
  {
   "cell_type": "code",
   "execution_count": 16,
   "metadata": {},
   "outputs": [
    {
     "name": "stdout",
     "output_type": "stream",
     "text": [
      "Test Data Anomalies: [False, False, False, False, False, False, False, False, False, False, True, False, False, False, False, False, True, False, False, False, False, False, False, True, True, False, False, False, False, False, False, False, False, False, False, False, False, False, True, False, False, False, False, False, False, False, False, False, False, False, False, False, False, False, False, False, False, False, False, False, False, False, False, False, False, False, False, False, False, True, False, True, False, False, False, False, False, False, False, False, False, False, False, False, False, False, False, False, False, False, False, False, False, False, False, False, False, False, False, False, False, False, False, False, False, False, False, False]\n"
     ]
    },
    {
     "name": "stderr",
     "output_type": "stream",
     "text": [
      "/home/godson/devtools/anaconda3/lib/python3.9/site-packages/sklearn/base.py:465: UserWarning: X does not have valid feature names, but NearestNeighbors was fitted with feature names\n",
      "  warnings.warn(\n",
      "/home/godson/devtools/anaconda3/lib/python3.9/site-packages/sklearn/base.py:465: UserWarning: X does not have valid feature names, but NearestNeighbors was fitted with feature names\n",
      "  warnings.warn(\n",
      "/home/godson/devtools/anaconda3/lib/python3.9/site-packages/sklearn/base.py:465: UserWarning: X does not have valid feature names, but NearestNeighbors was fitted with feature names\n",
      "  warnings.warn(\n",
      "/home/godson/devtools/anaconda3/lib/python3.9/site-packages/sklearn/base.py:465: UserWarning: X does not have valid feature names, but NearestNeighbors was fitted with feature names\n",
      "  warnings.warn(\n",
      "/home/godson/devtools/anaconda3/lib/python3.9/site-packages/sklearn/base.py:465: UserWarning: X does not have valid feature names, but NearestNeighbors was fitted with feature names\n",
      "  warnings.warn(\n",
      "/home/godson/devtools/anaconda3/lib/python3.9/site-packages/sklearn/base.py:465: UserWarning: X does not have valid feature names, but NearestNeighbors was fitted with feature names\n",
      "  warnings.warn(\n",
      "/home/godson/devtools/anaconda3/lib/python3.9/site-packages/sklearn/base.py:465: UserWarning: X does not have valid feature names, but NearestNeighbors was fitted with feature names\n",
      "  warnings.warn(\n",
      "/home/godson/devtools/anaconda3/lib/python3.9/site-packages/sklearn/base.py:465: UserWarning: X does not have valid feature names, but NearestNeighbors was fitted with feature names\n",
      "  warnings.warn(\n",
      "/home/godson/devtools/anaconda3/lib/python3.9/site-packages/sklearn/base.py:465: UserWarning: X does not have valid feature names, but NearestNeighbors was fitted with feature names\n",
      "  warnings.warn(\n",
      "/home/godson/devtools/anaconda3/lib/python3.9/site-packages/sklearn/base.py:465: UserWarning: X does not have valid feature names, but NearestNeighbors was fitted with feature names\n",
      "  warnings.warn(\n",
      "/home/godson/devtools/anaconda3/lib/python3.9/site-packages/sklearn/base.py:465: UserWarning: X does not have valid feature names, but NearestNeighbors was fitted with feature names\n",
      "  warnings.warn(\n",
      "/home/godson/devtools/anaconda3/lib/python3.9/site-packages/sklearn/base.py:465: UserWarning: X does not have valid feature names, but NearestNeighbors was fitted with feature names\n",
      "  warnings.warn(\n",
      "/home/godson/devtools/anaconda3/lib/python3.9/site-packages/sklearn/base.py:465: UserWarning: X does not have valid feature names, but NearestNeighbors was fitted with feature names\n",
      "  warnings.warn(\n",
      "/home/godson/devtools/anaconda3/lib/python3.9/site-packages/sklearn/base.py:465: UserWarning: X does not have valid feature names, but NearestNeighbors was fitted with feature names\n",
      "  warnings.warn(\n",
      "/home/godson/devtools/anaconda3/lib/python3.9/site-packages/sklearn/base.py:465: UserWarning: X does not have valid feature names, but NearestNeighbors was fitted with feature names\n",
      "  warnings.warn(\n",
      "/home/godson/devtools/anaconda3/lib/python3.9/site-packages/sklearn/base.py:465: UserWarning: X does not have valid feature names, but NearestNeighbors was fitted with feature names\n",
      "  warnings.warn(\n",
      "/home/godson/devtools/anaconda3/lib/python3.9/site-packages/sklearn/base.py:465: UserWarning: X does not have valid feature names, but NearestNeighbors was fitted with feature names\n",
      "  warnings.warn(\n",
      "/home/godson/devtools/anaconda3/lib/python3.9/site-packages/sklearn/base.py:465: UserWarning: X does not have valid feature names, but NearestNeighbors was fitted with feature names\n",
      "  warnings.warn(\n",
      "/home/godson/devtools/anaconda3/lib/python3.9/site-packages/sklearn/base.py:465: UserWarning: X does not have valid feature names, but NearestNeighbors was fitted with feature names\n",
      "  warnings.warn(\n",
      "/home/godson/devtools/anaconda3/lib/python3.9/site-packages/sklearn/base.py:465: UserWarning: X does not have valid feature names, but NearestNeighbors was fitted with feature names\n",
      "  warnings.warn(\n",
      "/home/godson/devtools/anaconda3/lib/python3.9/site-packages/sklearn/base.py:465: UserWarning: X does not have valid feature names, but NearestNeighbors was fitted with feature names\n",
      "  warnings.warn(\n",
      "/home/godson/devtools/anaconda3/lib/python3.9/site-packages/sklearn/base.py:465: UserWarning: X does not have valid feature names, but NearestNeighbors was fitted with feature names\n",
      "  warnings.warn(\n",
      "/home/godson/devtools/anaconda3/lib/python3.9/site-packages/sklearn/base.py:465: UserWarning: X does not have valid feature names, but NearestNeighbors was fitted with feature names\n",
      "  warnings.warn(\n",
      "/home/godson/devtools/anaconda3/lib/python3.9/site-packages/sklearn/base.py:465: UserWarning: X does not have valid feature names, but NearestNeighbors was fitted with feature names\n",
      "  warnings.warn(\n",
      "/home/godson/devtools/anaconda3/lib/python3.9/site-packages/sklearn/base.py:465: UserWarning: X does not have valid feature names, but NearestNeighbors was fitted with feature names\n",
      "  warnings.warn(\n",
      "/home/godson/devtools/anaconda3/lib/python3.9/site-packages/sklearn/base.py:465: UserWarning: X does not have valid feature names, but NearestNeighbors was fitted with feature names\n",
      "  warnings.warn(\n",
      "/home/godson/devtools/anaconda3/lib/python3.9/site-packages/sklearn/base.py:465: UserWarning: X does not have valid feature names, but NearestNeighbors was fitted with feature names\n",
      "  warnings.warn(\n",
      "/home/godson/devtools/anaconda3/lib/python3.9/site-packages/sklearn/base.py:465: UserWarning: X does not have valid feature names, but NearestNeighbors was fitted with feature names\n",
      "  warnings.warn(\n",
      "/home/godson/devtools/anaconda3/lib/python3.9/site-packages/sklearn/base.py:465: UserWarning: X does not have valid feature names, but NearestNeighbors was fitted with feature names\n",
      "  warnings.warn(\n",
      "/home/godson/devtools/anaconda3/lib/python3.9/site-packages/sklearn/base.py:465: UserWarning: X does not have valid feature names, but NearestNeighbors was fitted with feature names\n",
      "  warnings.warn(\n",
      "/home/godson/devtools/anaconda3/lib/python3.9/site-packages/sklearn/base.py:465: UserWarning: X does not have valid feature names, but NearestNeighbors was fitted with feature names\n",
      "  warnings.warn(\n",
      "/home/godson/devtools/anaconda3/lib/python3.9/site-packages/sklearn/base.py:465: UserWarning: X does not have valid feature names, but NearestNeighbors was fitted with feature names\n",
      "  warnings.warn(\n",
      "/home/godson/devtools/anaconda3/lib/python3.9/site-packages/sklearn/base.py:465: UserWarning: X does not have valid feature names, but NearestNeighbors was fitted with feature names\n",
      "  warnings.warn(\n",
      "/home/godson/devtools/anaconda3/lib/python3.9/site-packages/sklearn/base.py:465: UserWarning: X does not have valid feature names, but NearestNeighbors was fitted with feature names\n",
      "  warnings.warn(\n",
      "/home/godson/devtools/anaconda3/lib/python3.9/site-packages/sklearn/base.py:465: UserWarning: X does not have valid feature names, but NearestNeighbors was fitted with feature names\n",
      "  warnings.warn(\n",
      "/home/godson/devtools/anaconda3/lib/python3.9/site-packages/sklearn/base.py:465: UserWarning: X does not have valid feature names, but NearestNeighbors was fitted with feature names\n",
      "  warnings.warn(\n",
      "/home/godson/devtools/anaconda3/lib/python3.9/site-packages/sklearn/base.py:465: UserWarning: X does not have valid feature names, but NearestNeighbors was fitted with feature names\n",
      "  warnings.warn(\n",
      "/home/godson/devtools/anaconda3/lib/python3.9/site-packages/sklearn/base.py:465: UserWarning: X does not have valid feature names, but NearestNeighbors was fitted with feature names\n",
      "  warnings.warn(\n",
      "/home/godson/devtools/anaconda3/lib/python3.9/site-packages/sklearn/base.py:465: UserWarning: X does not have valid feature names, but NearestNeighbors was fitted with feature names\n",
      "  warnings.warn(\n",
      "/home/godson/devtools/anaconda3/lib/python3.9/site-packages/sklearn/base.py:465: UserWarning: X does not have valid feature names, but NearestNeighbors was fitted with feature names\n",
      "  warnings.warn(\n",
      "/home/godson/devtools/anaconda3/lib/python3.9/site-packages/sklearn/base.py:465: UserWarning: X does not have valid feature names, but NearestNeighbors was fitted with feature names\n",
      "  warnings.warn(\n",
      "/home/godson/devtools/anaconda3/lib/python3.9/site-packages/sklearn/base.py:465: UserWarning: X does not have valid feature names, but NearestNeighbors was fitted with feature names\n",
      "  warnings.warn(\n",
      "/home/godson/devtools/anaconda3/lib/python3.9/site-packages/sklearn/base.py:465: UserWarning: X does not have valid feature names, but NearestNeighbors was fitted with feature names\n",
      "  warnings.warn(\n",
      "/home/godson/devtools/anaconda3/lib/python3.9/site-packages/sklearn/base.py:465: UserWarning: X does not have valid feature names, but NearestNeighbors was fitted with feature names\n",
      "  warnings.warn(\n",
      "/home/godson/devtools/anaconda3/lib/python3.9/site-packages/sklearn/base.py:465: UserWarning: X does not have valid feature names, but NearestNeighbors was fitted with feature names\n",
      "  warnings.warn(\n",
      "/home/godson/devtools/anaconda3/lib/python3.9/site-packages/sklearn/base.py:465: UserWarning: X does not have valid feature names, but NearestNeighbors was fitted with feature names\n",
      "  warnings.warn(\n",
      "/home/godson/devtools/anaconda3/lib/python3.9/site-packages/sklearn/base.py:465: UserWarning: X does not have valid feature names, but NearestNeighbors was fitted with feature names\n",
      "  warnings.warn(\n",
      "/home/godson/devtools/anaconda3/lib/python3.9/site-packages/sklearn/base.py:465: UserWarning: X does not have valid feature names, but NearestNeighbors was fitted with feature names\n",
      "  warnings.warn(\n",
      "/home/godson/devtools/anaconda3/lib/python3.9/site-packages/sklearn/base.py:465: UserWarning: X does not have valid feature names, but NearestNeighbors was fitted with feature names\n",
      "  warnings.warn(\n",
      "/home/godson/devtools/anaconda3/lib/python3.9/site-packages/sklearn/base.py:465: UserWarning: X does not have valid feature names, but NearestNeighbors was fitted with feature names\n",
      "  warnings.warn(\n",
      "/home/godson/devtools/anaconda3/lib/python3.9/site-packages/sklearn/base.py:465: UserWarning: X does not have valid feature names, but NearestNeighbors was fitted with feature names\n",
      "  warnings.warn(\n",
      "/home/godson/devtools/anaconda3/lib/python3.9/site-packages/sklearn/base.py:465: UserWarning: X does not have valid feature names, but NearestNeighbors was fitted with feature names\n",
      "  warnings.warn(\n",
      "/home/godson/devtools/anaconda3/lib/python3.9/site-packages/sklearn/base.py:465: UserWarning: X does not have valid feature names, but NearestNeighbors was fitted with feature names\n",
      "  warnings.warn(\n",
      "/home/godson/devtools/anaconda3/lib/python3.9/site-packages/sklearn/base.py:465: UserWarning: X does not have valid feature names, but NearestNeighbors was fitted with feature names\n",
      "  warnings.warn(\n",
      "/home/godson/devtools/anaconda3/lib/python3.9/site-packages/sklearn/base.py:465: UserWarning: X does not have valid feature names, but NearestNeighbors was fitted with feature names\n",
      "  warnings.warn(\n",
      "/home/godson/devtools/anaconda3/lib/python3.9/site-packages/sklearn/base.py:465: UserWarning: X does not have valid feature names, but NearestNeighbors was fitted with feature names\n",
      "  warnings.warn(\n",
      "/home/godson/devtools/anaconda3/lib/python3.9/site-packages/sklearn/base.py:465: UserWarning: X does not have valid feature names, but NearestNeighbors was fitted with feature names\n",
      "  warnings.warn(\n",
      "/home/godson/devtools/anaconda3/lib/python3.9/site-packages/sklearn/base.py:465: UserWarning: X does not have valid feature names, but NearestNeighbors was fitted with feature names\n",
      "  warnings.warn(\n",
      "/home/godson/devtools/anaconda3/lib/python3.9/site-packages/sklearn/base.py:465: UserWarning: X does not have valid feature names, but NearestNeighbors was fitted with feature names\n",
      "  warnings.warn(\n",
      "/home/godson/devtools/anaconda3/lib/python3.9/site-packages/sklearn/base.py:465: UserWarning: X does not have valid feature names, but NearestNeighbors was fitted with feature names\n",
      "  warnings.warn(\n",
      "/home/godson/devtools/anaconda3/lib/python3.9/site-packages/sklearn/base.py:465: UserWarning: X does not have valid feature names, but NearestNeighbors was fitted with feature names\n",
      "  warnings.warn(\n",
      "/home/godson/devtools/anaconda3/lib/python3.9/site-packages/sklearn/base.py:465: UserWarning: X does not have valid feature names, but NearestNeighbors was fitted with feature names\n",
      "  warnings.warn(\n",
      "/home/godson/devtools/anaconda3/lib/python3.9/site-packages/sklearn/base.py:465: UserWarning: X does not have valid feature names, but NearestNeighbors was fitted with feature names\n",
      "  warnings.warn(\n",
      "/home/godson/devtools/anaconda3/lib/python3.9/site-packages/sklearn/base.py:465: UserWarning: X does not have valid feature names, but NearestNeighbors was fitted with feature names\n",
      "  warnings.warn(\n",
      "/home/godson/devtools/anaconda3/lib/python3.9/site-packages/sklearn/base.py:465: UserWarning: X does not have valid feature names, but NearestNeighbors was fitted with feature names\n",
      "  warnings.warn(\n",
      "/home/godson/devtools/anaconda3/lib/python3.9/site-packages/sklearn/base.py:465: UserWarning: X does not have valid feature names, but NearestNeighbors was fitted with feature names\n",
      "  warnings.warn(\n",
      "/home/godson/devtools/anaconda3/lib/python3.9/site-packages/sklearn/base.py:465: UserWarning: X does not have valid feature names, but NearestNeighbors was fitted with feature names\n",
      "  warnings.warn(\n",
      "/home/godson/devtools/anaconda3/lib/python3.9/site-packages/sklearn/base.py:465: UserWarning: X does not have valid feature names, but NearestNeighbors was fitted with feature names\n",
      "  warnings.warn(\n",
      "/home/godson/devtools/anaconda3/lib/python3.9/site-packages/sklearn/base.py:465: UserWarning: X does not have valid feature names, but NearestNeighbors was fitted with feature names\n",
      "  warnings.warn(\n",
      "/home/godson/devtools/anaconda3/lib/python3.9/site-packages/sklearn/base.py:465: UserWarning: X does not have valid feature names, but NearestNeighbors was fitted with feature names\n",
      "  warnings.warn(\n",
      "/home/godson/devtools/anaconda3/lib/python3.9/site-packages/sklearn/base.py:465: UserWarning: X does not have valid feature names, but NearestNeighbors was fitted with feature names\n",
      "  warnings.warn(\n",
      "/home/godson/devtools/anaconda3/lib/python3.9/site-packages/sklearn/base.py:465: UserWarning: X does not have valid feature names, but NearestNeighbors was fitted with feature names\n",
      "  warnings.warn(\n",
      "/home/godson/devtools/anaconda3/lib/python3.9/site-packages/sklearn/base.py:465: UserWarning: X does not have valid feature names, but NearestNeighbors was fitted with feature names\n",
      "  warnings.warn(\n",
      "/home/godson/devtools/anaconda3/lib/python3.9/site-packages/sklearn/base.py:465: UserWarning: X does not have valid feature names, but NearestNeighbors was fitted with feature names\n",
      "  warnings.warn(\n",
      "/home/godson/devtools/anaconda3/lib/python3.9/site-packages/sklearn/base.py:465: UserWarning: X does not have valid feature names, but NearestNeighbors was fitted with feature names\n",
      "  warnings.warn(\n",
      "/home/godson/devtools/anaconda3/lib/python3.9/site-packages/sklearn/base.py:465: UserWarning: X does not have valid feature names, but NearestNeighbors was fitted with feature names\n",
      "  warnings.warn(\n",
      "/home/godson/devtools/anaconda3/lib/python3.9/site-packages/sklearn/base.py:465: UserWarning: X does not have valid feature names, but NearestNeighbors was fitted with feature names\n",
      "  warnings.warn(\n",
      "/home/godson/devtools/anaconda3/lib/python3.9/site-packages/sklearn/base.py:465: UserWarning: X does not have valid feature names, but NearestNeighbors was fitted with feature names\n",
      "  warnings.warn(\n",
      "/home/godson/devtools/anaconda3/lib/python3.9/site-packages/sklearn/base.py:465: UserWarning: X does not have valid feature names, but NearestNeighbors was fitted with feature names\n",
      "  warnings.warn(\n",
      "/home/godson/devtools/anaconda3/lib/python3.9/site-packages/sklearn/base.py:465: UserWarning: X does not have valid feature names, but NearestNeighbors was fitted with feature names\n",
      "  warnings.warn(\n",
      "/home/godson/devtools/anaconda3/lib/python3.9/site-packages/sklearn/base.py:465: UserWarning: X does not have valid feature names, but NearestNeighbors was fitted with feature names\n",
      "  warnings.warn(\n",
      "/home/godson/devtools/anaconda3/lib/python3.9/site-packages/sklearn/base.py:465: UserWarning: X does not have valid feature names, but NearestNeighbors was fitted with feature names\n",
      "  warnings.warn(\n",
      "/home/godson/devtools/anaconda3/lib/python3.9/site-packages/sklearn/base.py:465: UserWarning: X does not have valid feature names, but NearestNeighbors was fitted with feature names\n",
      "  warnings.warn(\n",
      "/home/godson/devtools/anaconda3/lib/python3.9/site-packages/sklearn/base.py:465: UserWarning: X does not have valid feature names, but NearestNeighbors was fitted with feature names\n",
      "  warnings.warn(\n",
      "/home/godson/devtools/anaconda3/lib/python3.9/site-packages/sklearn/base.py:465: UserWarning: X does not have valid feature names, but NearestNeighbors was fitted with feature names\n",
      "  warnings.warn(\n",
      "/home/godson/devtools/anaconda3/lib/python3.9/site-packages/sklearn/base.py:465: UserWarning: X does not have valid feature names, but NearestNeighbors was fitted with feature names\n",
      "  warnings.warn(\n",
      "/home/godson/devtools/anaconda3/lib/python3.9/site-packages/sklearn/base.py:465: UserWarning: X does not have valid feature names, but NearestNeighbors was fitted with feature names\n",
      "  warnings.warn(\n",
      "/home/godson/devtools/anaconda3/lib/python3.9/site-packages/sklearn/base.py:465: UserWarning: X does not have valid feature names, but NearestNeighbors was fitted with feature names\n",
      "  warnings.warn(\n",
      "/home/godson/devtools/anaconda3/lib/python3.9/site-packages/sklearn/base.py:465: UserWarning: X does not have valid feature names, but NearestNeighbors was fitted with feature names\n",
      "  warnings.warn(\n",
      "/home/godson/devtools/anaconda3/lib/python3.9/site-packages/sklearn/base.py:465: UserWarning: X does not have valid feature names, but NearestNeighbors was fitted with feature names\n",
      "  warnings.warn(\n",
      "/home/godson/devtools/anaconda3/lib/python3.9/site-packages/sklearn/base.py:465: UserWarning: X does not have valid feature names, but NearestNeighbors was fitted with feature names\n",
      "  warnings.warn(\n",
      "/home/godson/devtools/anaconda3/lib/python3.9/site-packages/sklearn/base.py:465: UserWarning: X does not have valid feature names, but NearestNeighbors was fitted with feature names\n",
      "  warnings.warn(\n",
      "/home/godson/devtools/anaconda3/lib/python3.9/site-packages/sklearn/base.py:465: UserWarning: X does not have valid feature names, but NearestNeighbors was fitted with feature names\n",
      "  warnings.warn(\n",
      "/home/godson/devtools/anaconda3/lib/python3.9/site-packages/sklearn/base.py:465: UserWarning: X does not have valid feature names, but NearestNeighbors was fitted with feature names\n",
      "  warnings.warn(\n",
      "/home/godson/devtools/anaconda3/lib/python3.9/site-packages/sklearn/base.py:465: UserWarning: X does not have valid feature names, but NearestNeighbors was fitted with feature names\n",
      "  warnings.warn(\n",
      "/home/godson/devtools/anaconda3/lib/python3.9/site-packages/sklearn/base.py:465: UserWarning: X does not have valid feature names, but NearestNeighbors was fitted with feature names\n",
      "  warnings.warn(\n",
      "/home/godson/devtools/anaconda3/lib/python3.9/site-packages/sklearn/base.py:465: UserWarning: X does not have valid feature names, but NearestNeighbors was fitted with feature names\n",
      "  warnings.warn(\n",
      "/home/godson/devtools/anaconda3/lib/python3.9/site-packages/sklearn/base.py:465: UserWarning: X does not have valid feature names, but NearestNeighbors was fitted with feature names\n",
      "  warnings.warn(\n",
      "/home/godson/devtools/anaconda3/lib/python3.9/site-packages/sklearn/base.py:465: UserWarning: X does not have valid feature names, but NearestNeighbors was fitted with feature names\n",
      "  warnings.warn(\n",
      "/home/godson/devtools/anaconda3/lib/python3.9/site-packages/sklearn/base.py:465: UserWarning: X does not have valid feature names, but NearestNeighbors was fitted with feature names\n",
      "  warnings.warn(\n",
      "/home/godson/devtools/anaconda3/lib/python3.9/site-packages/sklearn/base.py:465: UserWarning: X does not have valid feature names, but NearestNeighbors was fitted with feature names\n",
      "  warnings.warn(\n",
      "/home/godson/devtools/anaconda3/lib/python3.9/site-packages/sklearn/base.py:465: UserWarning: X does not have valid feature names, but NearestNeighbors was fitted with feature names\n",
      "  warnings.warn(\n",
      "/home/godson/devtools/anaconda3/lib/python3.9/site-packages/sklearn/base.py:465: UserWarning: X does not have valid feature names, but NearestNeighbors was fitted with feature names\n",
      "  warnings.warn(\n",
      "/home/godson/devtools/anaconda3/lib/python3.9/site-packages/sklearn/base.py:465: UserWarning: X does not have valid feature names, but NearestNeighbors was fitted with feature names\n",
      "  warnings.warn(\n",
      "/home/godson/devtools/anaconda3/lib/python3.9/site-packages/sklearn/base.py:465: UserWarning: X does not have valid feature names, but NearestNeighbors was fitted with feature names\n",
      "  warnings.warn(\n",
      "/home/godson/devtools/anaconda3/lib/python3.9/site-packages/sklearn/base.py:465: UserWarning: X does not have valid feature names, but NearestNeighbors was fitted with feature names\n",
      "  warnings.warn(\n",
      "/home/godson/devtools/anaconda3/lib/python3.9/site-packages/sklearn/base.py:465: UserWarning: X does not have valid feature names, but NearestNeighbors was fitted with feature names\n",
      "  warnings.warn(\n",
      "/home/godson/devtools/anaconda3/lib/python3.9/site-packages/sklearn/base.py:465: UserWarning: X does not have valid feature names, but NearestNeighbors was fitted with feature names\n",
      "  warnings.warn(\n"
     ]
    }
   ],
   "source": [
    "\n",
    "\n",
    "# Predict anomalies in new data\n",
    "test_anomalies = [is_anomaly(point, threshold) for point in X_train.to_numpy()]\n",
    "print(\"Test Data Anomalies:\", test_anomalies)"
   ]
  },
  {
   "cell_type": "code",
   "execution_count": 40,
   "metadata": {},
   "outputs": [],
   "source": [
    "from sklearn.svm import OneClassSVM\n",
    "import numpy as np\n",
    "\n",
    "\n",
    "# Assuming X_train is your training data for the single class\n",
    "clf = OneClassSVM(gamma='scale', nu=0.008).fit(X_train)\n",
    "\n",
    "# Predict on new data\n"
   ]
  },
  {
   "cell_type": "code",
   "execution_count": 24,
   "metadata": {},
   "outputs": [],
   "source": [
    "predictions = clf.predict(X_train)"
   ]
  },
  {
   "cell_type": "code",
   "execution_count": 38,
   "metadata": {},
   "outputs": [
    {
     "name": "stdout",
     "output_type": "stream",
     "text": [
      "[0.01342729]\n",
      "Training Data Anomaly Probabilities: [[0.]]\n"
     ]
    },
    {
     "name": "stderr",
     "output_type": "stream",
     "text": [
      "/home/godson/devtools/anaconda3/lib/python3.9/site-packages/sklearn/base.py:465: UserWarning: X does not have valid feature names, but OneClassSVM was fitted with feature names\n",
      "  warnings.warn(\n"
     ]
    }
   ],
   "source": [
    "# Calculate decision function scores for the training data\n",
    "from sklearn.preprocessing import MinMaxScaler\n",
    "\n",
    "\n",
    "scores_train = clf.decision_function([X_train.to_numpy()[1]])\n",
    "print(scores_train)\n",
    "# Normalize scores to get probabilities\n",
    "scaler = MinMaxScaler()\n",
    "scores_train_scaled = scaler.fit_transform(scores_train.reshape(-1, 1))\n",
    "print(\"Training Data Anomaly Probabilities:\", scores_train_scaled)\n"
   ]
  },
  {
   "cell_type": "code",
   "execution_count": 5,
   "metadata": {},
   "outputs": [],
   "source": [
    "from sklearn.linear_model import LinearRegression\n",
    "\n",
    "model  = LinearRegression()"
   ]
  },
  {
   "cell_type": "code",
   "execution_count": 7,
   "metadata": {},
   "outputs": [
    {
     "data": {
      "text/html": [
       "<style>#sk-container-id-1 {color: black;}#sk-container-id-1 pre{padding: 0;}#sk-container-id-1 div.sk-toggleable {background-color: white;}#sk-container-id-1 label.sk-toggleable__label {cursor: pointer;display: block;width: 100%;margin-bottom: 0;padding: 0.3em;box-sizing: border-box;text-align: center;}#sk-container-id-1 label.sk-toggleable__label-arrow:before {content: \"▸\";float: left;margin-right: 0.25em;color: #696969;}#sk-container-id-1 label.sk-toggleable__label-arrow:hover:before {color: black;}#sk-container-id-1 div.sk-estimator:hover label.sk-toggleable__label-arrow:before {color: black;}#sk-container-id-1 div.sk-toggleable__content {max-height: 0;max-width: 0;overflow: hidden;text-align: left;background-color: #f0f8ff;}#sk-container-id-1 div.sk-toggleable__content pre {margin: 0.2em;color: black;border-radius: 0.25em;background-color: #f0f8ff;}#sk-container-id-1 input.sk-toggleable__control:checked~div.sk-toggleable__content {max-height: 200px;max-width: 100%;overflow: auto;}#sk-container-id-1 input.sk-toggleable__control:checked~label.sk-toggleable__label-arrow:before {content: \"▾\";}#sk-container-id-1 div.sk-estimator input.sk-toggleable__control:checked~label.sk-toggleable__label {background-color: #d4ebff;}#sk-container-id-1 div.sk-label input.sk-toggleable__control:checked~label.sk-toggleable__label {background-color: #d4ebff;}#sk-container-id-1 input.sk-hidden--visually {border: 0;clip: rect(1px 1px 1px 1px);clip: rect(1px, 1px, 1px, 1px);height: 1px;margin: -1px;overflow: hidden;padding: 0;position: absolute;width: 1px;}#sk-container-id-1 div.sk-estimator {font-family: monospace;background-color: #f0f8ff;border: 1px dotted black;border-radius: 0.25em;box-sizing: border-box;margin-bottom: 0.5em;}#sk-container-id-1 div.sk-estimator:hover {background-color: #d4ebff;}#sk-container-id-1 div.sk-parallel-item::after {content: \"\";width: 100%;border-bottom: 1px solid gray;flex-grow: 1;}#sk-container-id-1 div.sk-label:hover label.sk-toggleable__label {background-color: #d4ebff;}#sk-container-id-1 div.sk-serial::before {content: \"\";position: absolute;border-left: 1px solid gray;box-sizing: border-box;top: 0;bottom: 0;left: 50%;z-index: 0;}#sk-container-id-1 div.sk-serial {display: flex;flex-direction: column;align-items: center;background-color: white;padding-right: 0.2em;padding-left: 0.2em;position: relative;}#sk-container-id-1 div.sk-item {position: relative;z-index: 1;}#sk-container-id-1 div.sk-parallel {display: flex;align-items: stretch;justify-content: center;background-color: white;position: relative;}#sk-container-id-1 div.sk-item::before, #sk-container-id-1 div.sk-parallel-item::before {content: \"\";position: absolute;border-left: 1px solid gray;box-sizing: border-box;top: 0;bottom: 0;left: 50%;z-index: -1;}#sk-container-id-1 div.sk-parallel-item {display: flex;flex-direction: column;z-index: 1;position: relative;background-color: white;}#sk-container-id-1 div.sk-parallel-item:first-child::after {align-self: flex-end;width: 50%;}#sk-container-id-1 div.sk-parallel-item:last-child::after {align-self: flex-start;width: 50%;}#sk-container-id-1 div.sk-parallel-item:only-child::after {width: 0;}#sk-container-id-1 div.sk-dashed-wrapped {border: 1px dashed gray;margin: 0 0.4em 0.5em 0.4em;box-sizing: border-box;padding-bottom: 0.4em;background-color: white;}#sk-container-id-1 div.sk-label label {font-family: monospace;font-weight: bold;display: inline-block;line-height: 1.2em;}#sk-container-id-1 div.sk-label-container {text-align: center;}#sk-container-id-1 div.sk-container {/* jupyter's `normalize.less` sets `[hidden] { display: none; }` but bootstrap.min.css set `[hidden] { display: none !important; }` so we also need the `!important` here to be able to override the default hidden behavior on the sphinx rendered scikit-learn.org. See: https://github.com/scikit-learn/scikit-learn/issues/21755 */display: inline-block !important;position: relative;}#sk-container-id-1 div.sk-text-repr-fallback {display: none;}</style><div id=\"sk-container-id-1\" class=\"sk-top-container\"><div class=\"sk-text-repr-fallback\"><pre>LinearRegression()</pre><b>In a Jupyter environment, please rerun this cell to show the HTML representation or trust the notebook. <br />On GitHub, the HTML representation is unable to render, please try loading this page with nbviewer.org.</b></div><div class=\"sk-container\" hidden><div class=\"sk-item\"><div class=\"sk-estimator sk-toggleable\"><input class=\"sk-toggleable__control sk-hidden--visually\" id=\"sk-estimator-id-1\" type=\"checkbox\" checked><label for=\"sk-estimator-id-1\" class=\"sk-toggleable__label sk-toggleable__label-arrow\">LinearRegression</label><div class=\"sk-toggleable__content\"><pre>LinearRegression()</pre></div></div></div></div></div>"
      ],
      "text/plain": [
       "LinearRegression()"
      ]
     },
     "execution_count": 7,
     "metadata": {},
     "output_type": "execute_result"
    }
   ],
   "source": [
    "model.fit(X_train,y_train)"
   ]
  },
  {
   "cell_type": "code",
   "execution_count": 8,
   "metadata": {},
   "outputs": [],
   "source": [
    "predictions = model.predict(X_test)"
   ]
  },
  {
   "cell_type": "code",
   "execution_count": 9,
   "metadata": {},
   "outputs": [
    {
     "data": {
      "text/plain": [
       "array([2.3510854 , 1.67846048, 1.77207249, 1.12538368, 1.38258046,\n",
       "       1.87913213, 2.05003042, 1.69382618, 2.24929253, 2.08470112,\n",
       "       2.13984107, 1.53372341, 2.2797673 , 1.75631693, 2.49853979,\n",
       "       2.09391762, 1.36660348, 2.70958164, 1.93884442, 2.3607898 ,\n",
       "       2.491259  , 1.48075377])"
      ]
     },
     "execution_count": 9,
     "metadata": {},
     "output_type": "execute_result"
    }
   ],
   "source": [
    "predictions"
   ]
  },
  {
   "cell_type": "code",
   "execution_count": 10,
   "metadata": {},
   "outputs": [],
   "source": [
    "from sklearn.metrics import mean_absolute_error"
   ]
  },
  {
   "cell_type": "code",
   "execution_count": 12,
   "metadata": {},
   "outputs": [
    {
     "data": {
      "text/plain": [
       "0.6240702235472068"
      ]
     },
     "execution_count": 12,
     "metadata": {},
     "output_type": "execute_result"
    }
   ],
   "source": [
    "mean_absolute_error(y_test,predictions)\n",
    "\n"
   ]
  },
  {
   "cell_type": "code",
   "execution_count": 52,
   "metadata": {},
   "outputs": [],
   "source": [
    "import numpy as np\n",
    "from sklearn.ensemble import IsolationForest,RandomForestClassifier\n",
    "import pandas as pd\n",
    "from sklearn.neighbors import NearestNeighbors\n",
    "from sklearn.model_selection import train_test_split \n",
    "from sklearn.metrics import accuracy_score\n",
    "from sklearn.preprocessing import StandardScaler\n",
    "from sklearn.linear_model import LogisticRegression"
   ]
  },
  {
   "cell_type": "code",
   "execution_count": 44,
   "metadata": {},
   "outputs": [],
   "source": [
    "data = pd.read_csv(\"../Data/all_crops_labeled_cleaned.csv\")"
   ]
  },
  {
   "cell_type": "code",
   "execution_count": 45,
   "metadata": {},
   "outputs": [
    {
     "data": {
      "text/html": [
       "<div>\n",
       "<style scoped>\n",
       "    .dataframe tbody tr th:only-of-type {\n",
       "        vertical-align: middle;\n",
       "    }\n",
       "\n",
       "    .dataframe tbody tr th {\n",
       "        vertical-align: top;\n",
       "    }\n",
       "\n",
       "    .dataframe thead th {\n",
       "        text-align: right;\n",
       "    }\n",
       "</style>\n",
       "<table border=\"1\" class=\"dataframe\">\n",
       "  <thead>\n",
       "    <tr style=\"text-align: right;\">\n",
       "      <th></th>\n",
       "      <th>STATIONNAME</th>\n",
       "      <th>LONGITUDE</th>\n",
       "      <th>LATITUDE</th>\n",
       "      <th>ELEVATION_METER</th>\n",
       "      <th>COUNTRY</th>\n",
       "      <th>CROP</th>\n",
       "      <th>YA</th>\n",
       "      <th>YW</th>\n",
       "      <th>YW-YA</th>\n",
       "      <th>YP</th>\n",
       "      <th>...</th>\n",
       "      <th>YP_CV_TEMPORAL</th>\n",
       "      <th>YA_CV_TEMPORAL</th>\n",
       "      <th>CLIMATEZONE</th>\n",
       "      <th>AREA_IN_CLIMATEZONE_HA</th>\n",
       "      <th>nitrogen</th>\n",
       "      <th>phosphorus</th>\n",
       "      <th>potassium</th>\n",
       "      <th>ph</th>\n",
       "      <th>bulk_density</th>\n",
       "      <th>cation_exchange</th>\n",
       "    </tr>\n",
       "  </thead>\n",
       "  <tbody>\n",
       "    <tr>\n",
       "      <th>0</th>\n",
       "      <td>Adet</td>\n",
       "      <td>37.480</td>\n",
       "      <td>11.27</td>\n",
       "      <td>2240.0</td>\n",
       "      <td>Ethiopia</td>\n",
       "      <td>wheat</td>\n",
       "      <td>2.264167</td>\n",
       "      <td>9.535426</td>\n",
       "      <td>7.271260</td>\n",
       "      <td>9.960867</td>\n",
       "      <td>...</td>\n",
       "      <td>NaN</td>\n",
       "      <td>0.185680</td>\n",
       "      <td>6701</td>\n",
       "      <td>33930</td>\n",
       "      <td>1.3</td>\n",
       "      <td>243.7</td>\n",
       "      <td>7.2</td>\n",
       "      <td>6.0</td>\n",
       "      <td>1.19</td>\n",
       "      <td>21.2</td>\n",
       "    </tr>\n",
       "    <tr>\n",
       "      <th>1</th>\n",
       "      <td>Ambo</td>\n",
       "      <td>37.835</td>\n",
       "      <td>8.96</td>\n",
       "      <td>2100.0</td>\n",
       "      <td>Ethiopia</td>\n",
       "      <td>wheat</td>\n",
       "      <td>2.432833</td>\n",
       "      <td>8.645642</td>\n",
       "      <td>6.212808</td>\n",
       "      <td>9.691156</td>\n",
       "      <td>...</td>\n",
       "      <td>NaN</td>\n",
       "      <td>0.155960</td>\n",
       "      <td>5501</td>\n",
       "      <td>34690</td>\n",
       "      <td>1.4</td>\n",
       "      <td>297.9</td>\n",
       "      <td>13.9</td>\n",
       "      <td>6.4</td>\n",
       "      <td>1.15</td>\n",
       "      <td>35.6</td>\n",
       "    </tr>\n",
       "    <tr>\n",
       "      <th>2</th>\n",
       "      <td>Ayira</td>\n",
       "      <td>35.330</td>\n",
       "      <td>9.06</td>\n",
       "      <td>1700.0</td>\n",
       "      <td>Ethiopia</td>\n",
       "      <td>wheat</td>\n",
       "      <td>1.841167</td>\n",
       "      <td>8.019422</td>\n",
       "      <td>6.178255</td>\n",
       "      <td>8.019306</td>\n",
       "      <td>...</td>\n",
       "      <td>NaN</td>\n",
       "      <td>0.364394</td>\n",
       "      <td>7701</td>\n",
       "      <td>4331</td>\n",
       "      <td>2.0</td>\n",
       "      <td>220.4</td>\n",
       "      <td>7.2</td>\n",
       "      <td>5.4</td>\n",
       "      <td>1.09</td>\n",
       "      <td>23.5</td>\n",
       "    </tr>\n",
       "    <tr>\n",
       "      <th>3</th>\n",
       "      <td>Butajira</td>\n",
       "      <td>38.220</td>\n",
       "      <td>8.08</td>\n",
       "      <td>1840.0</td>\n",
       "      <td>Ethiopia</td>\n",
       "      <td>wheat</td>\n",
       "      <td>2.517667</td>\n",
       "      <td>9.013532</td>\n",
       "      <td>6.495865</td>\n",
       "      <td>9.091533</td>\n",
       "      <td>...</td>\n",
       "      <td>NaN</td>\n",
       "      <td>0.146454</td>\n",
       "      <td>5701</td>\n",
       "      <td>20238</td>\n",
       "      <td>2.3</td>\n",
       "      <td>163.0</td>\n",
       "      <td>10.0</td>\n",
       "      <td>5.7</td>\n",
       "      <td>1.09</td>\n",
       "      <td>17.2</td>\n",
       "    </tr>\n",
       "    <tr>\n",
       "      <th>4</th>\n",
       "      <td>Debre Zeit</td>\n",
       "      <td>39.000</td>\n",
       "      <td>8.72</td>\n",
       "      <td>1900.0</td>\n",
       "      <td>Ethiopia</td>\n",
       "      <td>wheat</td>\n",
       "      <td>2.661667</td>\n",
       "      <td>8.501563</td>\n",
       "      <td>5.839896</td>\n",
       "      <td>9.086763</td>\n",
       "      <td>...</td>\n",
       "      <td>NaN</td>\n",
       "      <td>0.194539</td>\n",
       "      <td>6301</td>\n",
       "      <td>39285</td>\n",
       "      <td>1.3</td>\n",
       "      <td>269.4</td>\n",
       "      <td>13.9</td>\n",
       "      <td>6.7</td>\n",
       "      <td>1.23</td>\n",
       "      <td>26.1</td>\n",
       "    </tr>\n",
       "  </tbody>\n",
       "</table>\n",
       "<p>5 rows × 25 columns</p>\n",
       "</div>"
      ],
      "text/plain": [
       "  STATIONNAME  LONGITUDE  LATITUDE  ELEVATION_METER   COUNTRY   CROP  \\\n",
       "0        Adet     37.480     11.27           2240.0  Ethiopia  wheat   \n",
       "1        Ambo     37.835      8.96           2100.0  Ethiopia  wheat   \n",
       "2       Ayira     35.330      9.06           1700.0  Ethiopia  wheat   \n",
       "3    Butajira     38.220      8.08           1840.0  Ethiopia  wheat   \n",
       "4  Debre Zeit     39.000      8.72           1900.0  Ethiopia  wheat   \n",
       "\n",
       "         YA        YW     YW-YA        YP  ...  YP_CV_TEMPORAL  \\\n",
       "0  2.264167  9.535426  7.271260  9.960867  ...             NaN   \n",
       "1  2.432833  8.645642  6.212808  9.691156  ...             NaN   \n",
       "2  1.841167  8.019422  6.178255  8.019306  ...             NaN   \n",
       "3  2.517667  9.013532  6.495865  9.091533  ...             NaN   \n",
       "4  2.661667  8.501563  5.839896  9.086763  ...             NaN   \n",
       "\n",
       "   YA_CV_TEMPORAL  CLIMATEZONE  AREA_IN_CLIMATEZONE_HA  nitrogen  phosphorus  \\\n",
       "0        0.185680         6701                   33930       1.3       243.7   \n",
       "1        0.155960         5501                   34690       1.4       297.9   \n",
       "2        0.364394         7701                    4331       2.0       220.4   \n",
       "3        0.146454         5701                   20238       2.3       163.0   \n",
       "4        0.194539         6301                   39285       1.3       269.4   \n",
       "\n",
       "   potassium   ph  bulk_density  cation_exchange  \n",
       "0        7.2  6.0          1.19             21.2  \n",
       "1       13.9  6.4          1.15             35.6  \n",
       "2        7.2  5.4          1.09             23.5  \n",
       "3       10.0  5.7          1.09             17.2  \n",
       "4       13.9  6.7          1.23             26.1  \n",
       "\n",
       "[5 rows x 25 columns]"
      ]
     },
     "execution_count": 45,
     "metadata": {},
     "output_type": "execute_result"
    }
   ],
   "source": [
    "data.head()"
   ]
  },
  {
   "cell_type": "code",
   "execution_count": 46,
   "metadata": {},
   "outputs": [
    {
     "data": {
      "text/plain": [
       "Index(['STATIONNAME', 'LONGITUDE', 'LATITUDE', 'ELEVATION_METER', 'COUNTRY',\n",
       "       'CROP', 'YA', 'YW', 'YW-YA', 'YP', 'YP-YA', 'WPP', 'WPA',\n",
       "       'CROPPING_INTENSITY', 'YW_CV_TEMPORAL', 'YP_CV_TEMPORAL',\n",
       "       'YA_CV_TEMPORAL', 'CLIMATEZONE', 'AREA_IN_CLIMATEZONE_HA', 'nitrogen',\n",
       "       'phosphorus', 'potassium', 'ph', 'bulk_density', 'cation_exchange'],\n",
       "      dtype='object')"
      ]
     },
     "execution_count": 46,
     "metadata": {},
     "output_type": "execute_result"
    }
   ],
   "source": [
    "data.columns"
   ]
  },
  {
   "cell_type": "code",
   "execution_count": 47,
   "metadata": {},
   "outputs": [],
   "source": [
    "y = data[\"CROP\"]\n",
    "X= data[['nitrogen',\n",
    "       'phosphorus', 'potassium', 'ph', 'bulk_density', 'cation_exchange']]"
   ]
  },
  {
   "cell_type": "code",
   "execution_count": 48,
   "metadata": {},
   "outputs": [],
   "source": [
    "scaler = StandardScaler()\n",
    "array_scaled = scaler.fit_transform(X)\n",
    "X = pd.DataFrame(array_scaled,columns=X.columns)"
   ]
  },
  {
   "cell_type": "code",
   "execution_count": 49,
   "metadata": {},
   "outputs": [],
   "source": [
    "X_train,X_test,y_train,y_test = train_test_split(X,y,test_size=0.2,stratify=y)"
   ]
  },
  {
   "cell_type": "code",
   "execution_count": 53,
   "metadata": {},
   "outputs": [],
   "source": [
    "model = LogisticRegression()"
   ]
  },
  {
   "cell_type": "code",
   "execution_count": 54,
   "metadata": {},
   "outputs": [
    {
     "data": {
      "text/html": [
       "<style>#sk-container-id-3 {color: black;}#sk-container-id-3 pre{padding: 0;}#sk-container-id-3 div.sk-toggleable {background-color: white;}#sk-container-id-3 label.sk-toggleable__label {cursor: pointer;display: block;width: 100%;margin-bottom: 0;padding: 0.3em;box-sizing: border-box;text-align: center;}#sk-container-id-3 label.sk-toggleable__label-arrow:before {content: \"▸\";float: left;margin-right: 0.25em;color: #696969;}#sk-container-id-3 label.sk-toggleable__label-arrow:hover:before {color: black;}#sk-container-id-3 div.sk-estimator:hover label.sk-toggleable__label-arrow:before {color: black;}#sk-container-id-3 div.sk-toggleable__content {max-height: 0;max-width: 0;overflow: hidden;text-align: left;background-color: #f0f8ff;}#sk-container-id-3 div.sk-toggleable__content pre {margin: 0.2em;color: black;border-radius: 0.25em;background-color: #f0f8ff;}#sk-container-id-3 input.sk-toggleable__control:checked~div.sk-toggleable__content {max-height: 200px;max-width: 100%;overflow: auto;}#sk-container-id-3 input.sk-toggleable__control:checked~label.sk-toggleable__label-arrow:before {content: \"▾\";}#sk-container-id-3 div.sk-estimator input.sk-toggleable__control:checked~label.sk-toggleable__label {background-color: #d4ebff;}#sk-container-id-3 div.sk-label input.sk-toggleable__control:checked~label.sk-toggleable__label {background-color: #d4ebff;}#sk-container-id-3 input.sk-hidden--visually {border: 0;clip: rect(1px 1px 1px 1px);clip: rect(1px, 1px, 1px, 1px);height: 1px;margin: -1px;overflow: hidden;padding: 0;position: absolute;width: 1px;}#sk-container-id-3 div.sk-estimator {font-family: monospace;background-color: #f0f8ff;border: 1px dotted black;border-radius: 0.25em;box-sizing: border-box;margin-bottom: 0.5em;}#sk-container-id-3 div.sk-estimator:hover {background-color: #d4ebff;}#sk-container-id-3 div.sk-parallel-item::after {content: \"\";width: 100%;border-bottom: 1px solid gray;flex-grow: 1;}#sk-container-id-3 div.sk-label:hover label.sk-toggleable__label {background-color: #d4ebff;}#sk-container-id-3 div.sk-serial::before {content: \"\";position: absolute;border-left: 1px solid gray;box-sizing: border-box;top: 0;bottom: 0;left: 50%;z-index: 0;}#sk-container-id-3 div.sk-serial {display: flex;flex-direction: column;align-items: center;background-color: white;padding-right: 0.2em;padding-left: 0.2em;position: relative;}#sk-container-id-3 div.sk-item {position: relative;z-index: 1;}#sk-container-id-3 div.sk-parallel {display: flex;align-items: stretch;justify-content: center;background-color: white;position: relative;}#sk-container-id-3 div.sk-item::before, #sk-container-id-3 div.sk-parallel-item::before {content: \"\";position: absolute;border-left: 1px solid gray;box-sizing: border-box;top: 0;bottom: 0;left: 50%;z-index: -1;}#sk-container-id-3 div.sk-parallel-item {display: flex;flex-direction: column;z-index: 1;position: relative;background-color: white;}#sk-container-id-3 div.sk-parallel-item:first-child::after {align-self: flex-end;width: 50%;}#sk-container-id-3 div.sk-parallel-item:last-child::after {align-self: flex-start;width: 50%;}#sk-container-id-3 div.sk-parallel-item:only-child::after {width: 0;}#sk-container-id-3 div.sk-dashed-wrapped {border: 1px dashed gray;margin: 0 0.4em 0.5em 0.4em;box-sizing: border-box;padding-bottom: 0.4em;background-color: white;}#sk-container-id-3 div.sk-label label {font-family: monospace;font-weight: bold;display: inline-block;line-height: 1.2em;}#sk-container-id-3 div.sk-label-container {text-align: center;}#sk-container-id-3 div.sk-container {/* jupyter's `normalize.less` sets `[hidden] { display: none; }` but bootstrap.min.css set `[hidden] { display: none !important; }` so we also need the `!important` here to be able to override the default hidden behavior on the sphinx rendered scikit-learn.org. See: https://github.com/scikit-learn/scikit-learn/issues/21755 */display: inline-block !important;position: relative;}#sk-container-id-3 div.sk-text-repr-fallback {display: none;}</style><div id=\"sk-container-id-3\" class=\"sk-top-container\"><div class=\"sk-text-repr-fallback\"><pre>LogisticRegression()</pre><b>In a Jupyter environment, please rerun this cell to show the HTML representation or trust the notebook. <br />On GitHub, the HTML representation is unable to render, please try loading this page with nbviewer.org.</b></div><div class=\"sk-container\" hidden><div class=\"sk-item\"><div class=\"sk-estimator sk-toggleable\"><input class=\"sk-toggleable__control sk-hidden--visually\" id=\"sk-estimator-id-3\" type=\"checkbox\" checked><label for=\"sk-estimator-id-3\" class=\"sk-toggleable__label sk-toggleable__label-arrow\">LogisticRegression</label><div class=\"sk-toggleable__content\"><pre>LogisticRegression()</pre></div></div></div></div></div>"
      ],
      "text/plain": [
       "LogisticRegression()"
      ]
     },
     "execution_count": 54,
     "metadata": {},
     "output_type": "execute_result"
    }
   ],
   "source": [
    "model.fit(X_train,y_train)"
   ]
  },
  {
   "cell_type": "code",
   "execution_count": 55,
   "metadata": {},
   "outputs": [],
   "source": [
    "predictions = model.predict(X_test)"
   ]
  },
  {
   "cell_type": "code",
   "execution_count": 56,
   "metadata": {},
   "outputs": [
    {
     "data": {
      "text/plain": [
       "array(['maize', 'maize', 'maize', 'maize', 'millet', 'maize', 'maize',\n",
       "       'maize', 'sorghum', 'sorghum', 'maize', 'maize', 'rice', 'sorghum',\n",
       "       'maize', 'maize', 'maize', 'millet', 'maize', 'millet', 'maize',\n",
       "       'maize', 'maize', 'maize', 'millet', 'wheat', 'maize', 'maize',\n",
       "       'millet', 'maize', 'millet', 'millet', 'maize', 'maize', 'wheat',\n",
       "       'maize', 'maize', 'millet', 'millet', 'maize', 'maize', 'sorghum',\n",
       "       'sorghum', 'maize', 'maize', 'maize', 'millet', 'maize', 'millet',\n",
       "       'maize', 'sorghum', 'maize', 'millet', 'maize', 'maize', 'maize',\n",
       "       'maize', 'sorghum', 'sorghum', 'maize', 'millet', 'maize',\n",
       "       'sorghum', 'rice', 'maize', 'millet', 'maize', 'maize', 'maize',\n",
       "       'maize'], dtype=object)"
      ]
     },
     "execution_count": 56,
     "metadata": {},
     "output_type": "execute_result"
    }
   ],
   "source": [
    "predictions"
   ]
  },
  {
   "cell_type": "code",
   "execution_count": 57,
   "metadata": {},
   "outputs": [
    {
     "data": {
      "text/plain": [
       "227      maize\n",
       "180      maize\n",
       "197      maize\n",
       "263      maize\n",
       "234      maize\n",
       "        ...   \n",
       "103    sorghum\n",
       "201      maize\n",
       "205      maize\n",
       "68     sorghum\n",
       "3        wheat\n",
       "Name: CROP, Length: 70, dtype: object"
      ]
     },
     "execution_count": 57,
     "metadata": {},
     "output_type": "execute_result"
    }
   ],
   "source": [
    "y_test"
   ]
  },
  {
   "cell_type": "code",
   "execution_count": 58,
   "metadata": {},
   "outputs": [
    {
     "data": {
      "text/plain": [
       "0.3142857142857143"
      ]
     },
     "execution_count": 58,
     "metadata": {},
     "output_type": "execute_result"
    }
   ],
   "source": [
    "accuracy_score(y_test,predictions)"
   ]
  },
  {
   "cell_type": "code",
   "execution_count": 31,
   "metadata": {},
   "outputs": [
    {
     "name": "stderr",
     "output_type": "stream",
     "text": [
      "<frozen importlib._bootstrap>:228: RuntimeWarning: numpy.ufunc size changed, may indicate binary incompatibility. Expected 216 from C header, got 232 from PyObject\n"
     ]
    }
   ],
   "source": [
    "import catboost as cb\n",
    "model = cb.CatBoostClassifier(verbose=0)"
   ]
  },
  {
   "cell_type": "code",
   "execution_count": 32,
   "metadata": {},
   "outputs": [
    {
     "data": {
      "text/plain": [
       "<catboost.core.CatBoostClassifier at 0x74f957c3c190>"
      ]
     },
     "execution_count": 32,
     "metadata": {},
     "output_type": "execute_result"
    }
   ],
   "source": [
    "model.fit(X_train,y_train)"
   ]
  },
  {
   "cell_type": "code",
   "execution_count": 39,
   "metadata": {},
   "outputs": [
    {
     "data": {
      "text/plain": [
       "0.15714285714285714"
      ]
     },
     "execution_count": 39,
     "metadata": {},
     "output_type": "execute_result"
    }
   ],
   "source": [
    "predictions = model.predict(X_test)\n",
    "accuracy_score(y_test,predictions)"
   ]
  },
  {
   "cell_type": "code",
   "execution_count": 40,
   "metadata": {},
   "outputs": [
    {
     "data": {
      "text/plain": [
       "array([['sorghum'],\n",
       "       ['maize'],\n",
       "       ['rice'],\n",
       "       ['maize'],\n",
       "       ['sorghum'],\n",
       "       ['millet'],\n",
       "       ['sorghum'],\n",
       "       ['maize'],\n",
       "       ['maize'],\n",
       "       ['maize'],\n",
       "       ['millet'],\n",
       "       ['sorghum'],\n",
       "       ['millet'],\n",
       "       ['millet'],\n",
       "       ['maize'],\n",
       "       ['sorghum'],\n",
       "       ['millet'],\n",
       "       ['millet'],\n",
       "       ['maize'],\n",
       "       ['wheat'],\n",
       "       ['sorghum'],\n",
       "       ['millet'],\n",
       "       ['sorghum'],\n",
       "       ['maize'],\n",
       "       ['sorghum'],\n",
       "       ['maize'],\n",
       "       ['maize'],\n",
       "       ['rice'],\n",
       "       ['sorghum'],\n",
       "       ['sorghum'],\n",
       "       ['wheat'],\n",
       "       ['millet'],\n",
       "       ['sorghum'],\n",
       "       ['maize'],\n",
       "       ['millet'],\n",
       "       ['maize'],\n",
       "       ['sorghum'],\n",
       "       ['millet'],\n",
       "       ['millet'],\n",
       "       ['maize'],\n",
       "       ['maize'],\n",
       "       ['millet'],\n",
       "       ['rice'],\n",
       "       ['rice'],\n",
       "       ['maize'],\n",
       "       ['maize'],\n",
       "       ['maize'],\n",
       "       ['millet'],\n",
       "       ['sugarcane'],\n",
       "       ['millet'],\n",
       "       ['wheat'],\n",
       "       ['millet'],\n",
       "       ['maize'],\n",
       "       ['maize'],\n",
       "       ['millet'],\n",
       "       ['wheat'],\n",
       "       ['maize'],\n",
       "       ['millet'],\n",
       "       ['rice'],\n",
       "       ['maize'],\n",
       "       ['millet'],\n",
       "       ['maize'],\n",
       "       ['maize'],\n",
       "       ['rice'],\n",
       "       ['sorghum'],\n",
       "       ['maize'],\n",
       "       ['maize'],\n",
       "       ['rice'],\n",
       "       ['sorghum'],\n",
       "       ['millet']], dtype=object)"
      ]
     },
     "execution_count": 40,
     "metadata": {},
     "output_type": "execute_result"
    }
   ],
   "source": [
    "predictions"
   ]
  },
  {
   "cell_type": "code",
   "execution_count": 34,
   "metadata": {},
   "outputs": [],
   "source": [
    "predictions = model.predict_proba(X_test)"
   ]
  },
  {
   "cell_type": "code",
   "execution_count": null,
   "metadata": {},
   "outputs": [],
   "source": []
  },
  {
   "cell_type": "code",
   "execution_count": 37,
   "metadata": {},
   "outputs": [
    {
     "data": {
      "text/plain": [
       "array(['maize', 'millet', 'rice', 'sorghum', 'sugarcane', 'wheat'],\n",
       "      dtype=object)"
      ]
     },
     "execution_count": 37,
     "metadata": {},
     "output_type": "execute_result"
    }
   ],
   "source": [
    "model.classes_"
   ]
  },
  {
   "cell_type": "code",
   "execution_count": 35,
   "metadata": {},
   "outputs": [
    {
     "data": {
      "text/plain": [
       "array([[3.04952369e-01, 5.39546505e-02, 3.15344443e-01, 3.25089879e-01,\n",
       "        2.70592029e-04, 3.88066947e-04],\n",
       "       [8.96982800e-01, 1.21585065e-02, 4.47462583e-03, 4.26654964e-02,\n",
       "        5.53209657e-04, 4.31653615e-02],\n",
       "       [3.26750635e-01, 5.50972528e-02, 4.80056041e-01, 1.36720808e-01,\n",
       "        6.31798888e-04, 7.43464571e-04],\n",
       "       [6.18536145e-01, 1.21516462e-01, 5.30878795e-02, 1.73802810e-01,\n",
       "        7.88737097e-03, 2.51693327e-02],\n",
       "       [1.16288837e-01, 2.19660449e-02, 1.02434472e-02, 8.37014599e-01,\n",
       "        3.65431296e-03, 1.08327592e-02],\n",
       "       [4.07388420e-01, 4.56124204e-01, 1.28051765e-03, 3.59971650e-02,\n",
       "        6.32060274e-04, 9.85776330e-02],\n",
       "       [7.09236662e-02, 3.23208418e-01, 7.97182295e-02, 5.18347526e-01,\n",
       "        2.97711556e-03, 4.82504429e-03],\n",
       "       [8.67174314e-01, 2.87282288e-02, 6.21439520e-02, 4.14842881e-02,\n",
       "        2.20844054e-04, 2.48373018e-04],\n",
       "       [2.92577142e-01, 1.15587490e-01, 1.30890043e-01, 2.25225379e-01,\n",
       "        1.43904156e-03, 2.34280904e-01],\n",
       "       [6.95815918e-01, 2.03461814e-02, 2.62734840e-01, 1.54004339e-02,\n",
       "        4.11594977e-03, 1.58667703e-03],\n",
       "       [6.45201809e-02, 7.68872902e-01, 1.23720914e-01, 4.19749437e-02,\n",
       "        5.11032085e-04, 4.00027176e-04],\n",
       "       [9.47915749e-02, 2.22632038e-01, 7.39328317e-02, 5.48725720e-01,\n",
       "        8.52121151e-03, 5.13966237e-02],\n",
       "       [3.94986300e-02, 8.32316169e-01, 2.07368076e-02, 6.34048332e-02,\n",
       "        9.38414397e-04, 4.31051457e-02],\n",
       "       [1.50057644e-01, 6.27179302e-01, 1.51056875e-03, 7.38567999e-02,\n",
       "        8.95658954e-04, 1.46500026e-01],\n",
       "       [4.88740673e-01, 5.49118879e-02, 2.81592241e-02, 4.25888474e-01,\n",
       "        1.21475687e-03, 1.08498487e-03],\n",
       "       [3.46305354e-02, 4.08803165e-02, 2.49576917e-02, 8.89603187e-01,\n",
       "        1.89540471e-03, 8.03286501e-03],\n",
       "       [4.54245502e-02, 4.81755563e-01, 4.30928894e-01, 4.06885524e-02,\n",
       "        3.41278703e-04, 8.61161577e-04],\n",
       "       [2.10985230e-01, 6.53725589e-01, 2.31782788e-02, 1.01540404e-01,\n",
       "        1.67915433e-03, 8.89134421e-03],\n",
       "       [4.81269180e-01, 1.60111255e-01, 8.91978924e-03, 2.73730385e-01,\n",
       "        1.53992077e-03, 7.44294697e-02],\n",
       "       [8.46080587e-02, 2.85813796e-02, 2.71139141e-02, 2.82417291e-01,\n",
       "        1.59817337e-03, 5.75681183e-01],\n",
       "       [1.31417656e-02, 1.20725806e-01, 4.49524878e-03, 8.60451089e-01,\n",
       "        5.44227659e-04, 6.41862332e-04],\n",
       "       [1.28486658e-01, 7.57019355e-01, 7.70025146e-02, 3.50888889e-02,\n",
       "        2.46992579e-04, 2.15559103e-03],\n",
       "       [5.59460626e-02, 5.57058977e-02, 2.25020259e-02, 4.44505331e-01,\n",
       "        7.69965544e-03, 4.13641028e-01],\n",
       "       [3.43140884e-01, 1.53089586e-02, 2.85796043e-01, 3.21783064e-01,\n",
       "        1.72935461e-03, 3.22416955e-02],\n",
       "       [3.46305354e-02, 4.08803165e-02, 2.49576917e-02, 8.89603187e-01,\n",
       "        1.89540471e-03, 8.03286501e-03],\n",
       "       [7.91110434e-01, 3.61716769e-02, 3.02211504e-03, 3.27401717e-02,\n",
       "        1.05155493e-03, 1.35904047e-01],\n",
       "       [5.24642315e-01, 2.04144913e-02, 4.20721450e-01, 3.32843857e-02,\n",
       "        4.51045035e-04, 4.86313632e-04],\n",
       "       [8.24740398e-02, 2.27518638e-02, 8.40650386e-01, 5.26557658e-02,\n",
       "        9.34930591e-04, 5.33013628e-04],\n",
       "       [1.01887053e-01, 5.77866105e-02, 7.33110453e-03, 8.11733917e-01,\n",
       "        8.60763160e-04, 2.04005515e-02],\n",
       "       [1.23007543e-01, 2.70522787e-02, 1.56040393e-02, 4.40908016e-01,\n",
       "        1.12401558e-03, 3.92304107e-01],\n",
       "       [1.13032512e-01, 3.81962185e-02, 7.54408880e-04, 7.82193487e-02,\n",
       "        3.58700833e-04, 7.69438811e-01],\n",
       "       [3.47728852e-01, 4.20572133e-01, 1.76940255e-01, 5.14325746e-02,\n",
       "        4.72633294e-04, 2.85355199e-03],\n",
       "       [5.59460626e-02, 5.57058977e-02, 2.25020259e-02, 4.44505331e-01,\n",
       "        7.69965544e-03, 4.13641028e-01],\n",
       "       [8.67174314e-01, 2.87282288e-02, 6.21439520e-02, 4.14842881e-02,\n",
       "        2.20844054e-04, 2.48373018e-04],\n",
       "       [3.94986300e-02, 8.32316169e-01, 2.07368076e-02, 6.34048332e-02,\n",
       "        9.38414397e-04, 4.31051457e-02],\n",
       "       [3.30943574e-01, 3.08417337e-01, 9.48928222e-03, 4.25829123e-02,\n",
       "        9.04601996e-04, 3.07662292e-01],\n",
       "       [5.40231595e-02, 4.39170125e-01, 4.02536013e-03, 4.69742624e-01,\n",
       "        9.78801550e-04, 3.20599292e-02],\n",
       "       [5.62492117e-02, 8.13912425e-01, 2.42410074e-02, 1.05212427e-01,\n",
       "        1.53102158e-04, 2.31826233e-04],\n",
       "       [6.45201809e-02, 7.68872902e-01, 1.23720914e-01, 4.19749437e-02,\n",
       "        5.11032085e-04, 4.00027176e-04],\n",
       "       [4.56202542e-01, 6.17734566e-02, 2.83920355e-02, 4.52840535e-01,\n",
       "        3.58629271e-04, 4.32801074e-04],\n",
       "       [5.34055629e-01, 1.28605266e-01, 2.70943831e-01, 6.39830920e-02,\n",
       "        7.61523452e-04, 1.65065806e-03],\n",
       "       [1.67674866e-02, 9.08799174e-01, 3.85122888e-02, 3.47118567e-02,\n",
       "        5.00763035e-04, 7.08431044e-04],\n",
       "       [2.56198278e-01, 2.33500822e-01, 2.66664994e-01, 2.42537446e-01,\n",
       "        5.16765453e-04, 5.81694341e-04],\n",
       "       [3.06480800e-01, 3.04690662e-01, 3.48544933e-01, 3.09649876e-02,\n",
       "        1.71352651e-03, 7.60509139e-03],\n",
       "       [8.06227752e-01, 9.36048688e-02, 6.64006051e-02, 3.16836858e-02,\n",
       "        1.54140399e-03, 5.41684004e-04],\n",
       "       [5.65168024e-01, 4.68705054e-02, 2.08522916e-01, 1.58810775e-01,\n",
       "        1.73664019e-02, 3.26137795e-03],\n",
       "       [7.55352708e-01, 5.31017760e-02, 1.13370370e-01, 7.42635036e-02,\n",
       "        2.34021831e-03, 1.57142473e-03],\n",
       "       [5.62492117e-02, 8.13912425e-01, 2.42410074e-02, 1.05212427e-01,\n",
       "        1.53102158e-04, 2.31826233e-04],\n",
       "       [1.36128159e-02, 2.91878452e-03, 3.42735132e-03, 1.75363325e-02,\n",
       "        9.58526137e-01, 3.97857844e-03],\n",
       "       [1.67674866e-02, 9.08799174e-01, 3.85122888e-02, 3.47118567e-02,\n",
       "        5.00763035e-04, 7.08431044e-04],\n",
       "       [1.13032512e-01, 3.81962185e-02, 7.54408880e-04, 7.82193487e-02,\n",
       "        3.58700833e-04, 7.69438811e-01],\n",
       "       [4.07388420e-01, 4.56124204e-01, 1.28051765e-03, 3.59971650e-02,\n",
       "        6.32060274e-04, 9.85776330e-02],\n",
       "       [7.86844115e-01, 4.17099600e-02, 1.02253340e-01, 6.51103983e-02,\n",
       "        2.48209088e-03, 1.60009589e-03],\n",
       "       [8.61728342e-01, 2.98259495e-02, 6.34148929e-02, 3.85914338e-02,\n",
       "        5.54731657e-03, 8.92065559e-04],\n",
       "       [3.10594381e-02, 4.28771768e-01, 2.56778652e-01, 2.78973212e-01,\n",
       "        2.27381894e-03, 2.14311013e-03],\n",
       "       [3.12534846e-01, 2.81584085e-02, 1.42450770e-03, 3.17467516e-01,\n",
       "        8.16231695e-04, 3.39598491e-01],\n",
       "       [8.67174314e-01, 2.87282288e-02, 6.21439520e-02, 4.14842881e-02,\n",
       "        2.20844054e-04, 2.48373018e-04],\n",
       "       [4.54245502e-02, 4.81755563e-01, 4.30928894e-01, 4.06885524e-02,\n",
       "        3.41278703e-04, 8.61161577e-04],\n",
       "       [3.19051233e-01, 4.11531703e-02, 3.74546813e-01, 2.19440460e-01,\n",
       "        4.21916594e-02, 3.61666514e-03],\n",
       "       [7.40483373e-01, 8.12550736e-02, 6.12626350e-02, 1.15864851e-01,\n",
       "        2.96141074e-04, 8.37927023e-04],\n",
       "       [1.30442499e-01, 6.96370845e-01, 9.26252833e-02, 7.58464662e-02,\n",
       "        1.72110840e-03, 2.99379802e-03],\n",
       "       [4.88740673e-01, 5.49118879e-02, 2.81592241e-02, 4.25888474e-01,\n",
       "        1.21475687e-03, 1.08498487e-03],\n",
       "       [4.15149539e-01, 2.83957131e-01, 4.44580865e-02, 2.49608829e-01,\n",
       "        4.73506293e-04, 6.35290768e-03],\n",
       "       [1.47200390e-01, 4.84543442e-02, 7.80293686e-01, 1.35436597e-02,\n",
       "        7.50456861e-03, 3.00335189e-03],\n",
       "       [2.42066341e-02, 3.27724498e-01, 3.15605554e-01, 3.31201686e-01,\n",
       "        6.23056952e-04, 6.38570395e-04],\n",
       "       [7.98963580e-01, 7.13970582e-02, 8.79009714e-03, 8.82419978e-02,\n",
       "        9.14810602e-04, 3.16924567e-02],\n",
       "       [3.71750842e-01, 3.03979839e-01, 2.92255051e-01, 2.94447238e-02,\n",
       "        1.18238540e-03, 1.38715895e-03],\n",
       "       [1.47200390e-01, 4.84543442e-02, 7.80293686e-01, 1.35436597e-02,\n",
       "        7.50456861e-03, 3.00335189e-03],\n",
       "       [5.40231595e-02, 4.39170125e-01, 4.02536013e-03, 4.69742624e-01,\n",
       "        9.78801550e-04, 3.20599292e-02],\n",
       "       [3.10594381e-02, 4.28771768e-01, 2.56778652e-01, 2.78973212e-01,\n",
       "        2.27381894e-03, 2.14311013e-03]])"
      ]
     },
     "execution_count": 35,
     "metadata": {},
     "output_type": "execute_result"
    }
   ],
   "source": [
    "predictions"
   ]
  },
  {
   "cell_type": "code",
   "execution_count": 38,
   "metadata": {},
   "outputs": [
    {
     "data": {
      "text/plain": [
       "275     millet\n",
       "58     sorghum\n",
       "119       rice\n",
       "255      maize\n",
       "248      maize\n",
       "        ...   \n",
       "333     millet\n",
       "110    sorghum\n",
       "252      maize\n",
       "206      maize\n",
       "37     sorghum\n",
       "Name: CROP, Length: 70, dtype: object"
      ]
     },
     "execution_count": 38,
     "metadata": {},
     "output_type": "execute_result"
    }
   ],
   "source": [
    "y_test"
   ]
  },
  {
   "cell_type": "code",
   "execution_count": 41,
   "metadata": {},
   "outputs": [],
   "source": [
    "from sklearn.model_selection import cross_val_score\n",
    "\n",
    "\n",
    "scores = cross_val_score(model, X, y, cv=5)"
   ]
  },
  {
   "cell_type": "code",
   "execution_count": 42,
   "metadata": {},
   "outputs": [
    {
     "data": {
      "text/plain": [
       "array([0.25714286, 0.21428571, 0.12857143, 0.2       , 0.27536232])"
      ]
     },
     "execution_count": 42,
     "metadata": {},
     "output_type": "execute_result"
    }
   ],
   "source": [
    "scores"
   ]
  },
  {
   "cell_type": "code",
   "execution_count": null,
   "metadata": {},
   "outputs": [],
   "source": []
  }
 ],
 "metadata": {
  "kernelspec": {
   "display_name": "base",
   "language": "python",
   "name": "python3"
  },
  "language_info": {
   "codemirror_mode": {
    "name": "ipython",
    "version": 3
   },
   "file_extension": ".py",
   "mimetype": "text/x-python",
   "name": "python",
   "nbconvert_exporter": "python",
   "pygments_lexer": "ipython3",
   "version": "3.9.13"
  }
 },
 "nbformat": 4,
 "nbformat_minor": 2
}
